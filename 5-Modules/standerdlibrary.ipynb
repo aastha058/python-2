{
 "cells": [
  {
   "cell_type": "markdown",
   "id": "56431cce",
   "metadata": {},
   "source": [
    "## Standerd library overview"
   ]
  },
  {
   "cell_type": "markdown",
   "id": "f10ada0b",
   "metadata": {},
   "source": [
    "### Python standerd library is a vast collection of modules and packages that come bundled with python providing a wide range the box here's an overview of some of the most commonly user modules and packages in the python stander library overview"
   ]
  },
  {
   "cell_type": "code",
   "execution_count": 2,
   "id": "1b0ebbb6",
   "metadata": {},
   "outputs": [
    {
     "name": "stdout",
     "output_type": "stream",
     "text": [
      "array('i', [1, 2, 3, 4])\n"
     ]
    }
   ],
   "source": [
    "import array\n",
    "arr = array.array('i',[1,2,3,4])\n",
    "print(arr)"
   ]
  },
  {
   "cell_type": "code",
   "execution_count": 4,
   "id": "ab6fbcb7",
   "metadata": {},
   "outputs": [
    {
     "name": "stdout",
     "output_type": "stream",
     "text": [
      "4.0\n",
      "3.141592653589793\n"
     ]
    }
   ],
   "source": [
    "import math\n",
    "print(math.sqrt(16))\n",
    "print(math.pi)"
   ]
  },
  {
   "cell_type": "code",
   "execution_count": 7,
   "id": "7c47a849",
   "metadata": {},
   "outputs": [
    {
     "name": "stdout",
     "output_type": "stream",
     "text": [
      "9\n",
      "apple\n"
     ]
    }
   ],
   "source": [
    "## random\n",
    "\n",
    "import random\n",
    "print(random.randint(1,10))\n",
    "print(random.choice(['apple','banana','graper','orange','cherry']))"
   ]
  },
  {
   "cell_type": "code",
   "execution_count": 9,
   "id": "fb09b31a",
   "metadata": {},
   "outputs": [
    {
     "name": "stdout",
     "output_type": "stream",
     "text": [
      "c:\\python-2\\5-Modules\n"
     ]
    }
   ],
   "source": [
    "## file and directory access\n",
    "\n",
    "import os\n",
    "print(os.getcwd())"
   ]
  },
  {
   "cell_type": "code",
   "execution_count": 10,
   "id": "6466ebda",
   "metadata": {},
   "outputs": [],
   "source": [
    "os.mkdir('test_dir')"
   ]
  },
  {
   "cell_type": "code",
   "execution_count": 11,
   "id": "ffdbd824",
   "metadata": {},
   "outputs": [
    {
     "data": {
      "text/plain": [
       "'destination.txt'"
      ]
     },
     "execution_count": 11,
     "metadata": {},
     "output_type": "execute_result"
    }
   ],
   "source": [
    "### highlevel operations on files and callection of files-\n",
    "\n",
    "import shutil\n",
    "shutil.copyfile('source.txt','destination.txt')"
   ]
  },
  {
   "cell_type": "code",
   "execution_count": 12,
   "id": "2ecbfee2",
   "metadata": {},
   "outputs": [
    {
     "name": "stdout",
     "output_type": "stream",
     "text": [
      "{\"name\": \"aastha\", \"age\": 20}\n",
      "<class 'str'>\n",
      "{'name': 'aastha', 'age': 20}\n",
      "<class 'dict'>\n"
     ]
    }
   ],
   "source": [
    "## data serialization\n",
    "\n",
    "import json\n",
    "data = {'name':'aastha','age':20}\n",
    "\n",
    "json_str=json.dumps(data)\n",
    "print(json_str)\n",
    "print(type(json_str))\n",
    "\n",
    "parsed_data=json.loads(json_str)\n",
    "print(parsed_data)\n",
    "print(type(parsed_data))"
   ]
  },
  {
   "cell_type": "code",
   "execution_count": 13,
   "id": "175142a8",
   "metadata": {},
   "outputs": [
    {
     "name": "stdout",
     "output_type": "stream",
     "text": [
      "['name', 'age']\n",
      "['aastha,20']\n"
     ]
    }
   ],
   "source": [
    "## csv\n",
    "\n",
    "import csv\n",
    "\n",
    "with open('example.csv',mode='w',newline='')as file:\n",
    "    writer=csv.writer(file)\n",
    "    writer.writerow(['name','age'])\n",
    "    writer.writerow(['aastha,20'])\n",
    "\n",
    "with open('example.csv',mode='r') as file:\n",
    "    reader=csv.reader(file)\n",
    "    for row in reader:\n",
    "        print(row)"
   ]
  },
  {
   "cell_type": "code",
   "execution_count": 14,
   "id": "e3537482",
   "metadata": {},
   "outputs": [
    {
     "name": "stdout",
     "output_type": "stream",
     "text": [
      "2025-09-26 12:26:42.195485\n",
      "<class 'datetime.datetime'>\n",
      "2025-09-25 12:26:42.195485\n",
      "<class 'datetime.datetime'>\n"
     ]
    }
   ],
   "source": [
    "## datetime\n",
    "\n",
    "from datetime import datetime,timedelta\n",
    "\n",
    "now=datetime.now()\n",
    "print(now)\n",
    "print(type(now))\n",
    "\n",
    "yesterday=now-timedelta(days=1)\n",
    "print(yesterday)\n",
    "print(type(yesterday))"
   ]
  },
  {
   "cell_type": "code",
   "execution_count": 16,
   "id": "75c7920b",
   "metadata": {},
   "outputs": [
    {
     "name": "stdout",
     "output_type": "stream",
     "text": [
      "1758869935.7570298\n",
      "1758869937.7578351\n",
      "<class 'module'>\n"
     ]
    }
   ],
   "source": [
    "## time\n",
    "\n",
    "import time\n",
    "print(time.time())\n",
    "time.sleep(2)\n",
    "print(time.time())\n",
    "print(type(time))"
   ]
  },
  {
   "cell_type": "code",
   "execution_count": 18,
   "id": "5c47d657",
   "metadata": {},
   "outputs": [
    {
     "name": "stdout",
     "output_type": "stream",
     "text": [
      "123\n"
     ]
    }
   ],
   "source": [
    "## reguler expresion\n",
    " \n",
    "import re\n",
    "\n",
    "pattern=r'\\d+'\n",
    "text='There are 123 apples 456'\n",
    "match=re.search(pattern,text)\n",
    "print(match.group())\n"
   ]
  },
  {
   "cell_type": "code",
   "execution_count": null,
   "id": "448a6542",
   "metadata": {},
   "outputs": [],
   "source": []
  }
 ],
 "metadata": {
  "kernelspec": {
   "display_name": "Python 3",
   "language": "python",
   "name": "python3"
  },
  "language_info": {
   "codemirror_mode": {
    "name": "ipython",
    "version": 3
   },
   "file_extension": ".py",
   "mimetype": "text/x-python",
   "name": "python",
   "nbconvert_exporter": "python",
   "pygments_lexer": "ipython3",
   "version": "3.13.0"
  }
 },
 "nbformat": 4,
 "nbformat_minor": 5
}
