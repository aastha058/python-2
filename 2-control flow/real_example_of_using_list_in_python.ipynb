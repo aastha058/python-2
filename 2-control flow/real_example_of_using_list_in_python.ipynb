{
 "cells": [
  {
   "cell_type": "markdown",
   "id": "a005bf23",
   "metadata": {},
   "source": [
    "##### Real Example of using list in Python "
   ]
  },
  {
   "cell_type": "markdown",
   "id": "9ba698bb",
   "metadata": {},
   "source": [
    "### Manage a to do list"
   ]
  },
  {
   "cell_type": "markdown",
   "id": "bc1f9cf2",
   "metadata": {},
   "source": []
  }
 ],
 "metadata": {
  "language_info": {
   "name": "python"
  }
 },
 "nbformat": 4,
 "nbformat_minor": 5
}
