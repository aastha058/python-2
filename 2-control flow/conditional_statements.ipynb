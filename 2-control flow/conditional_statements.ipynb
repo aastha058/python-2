{
 "cells": [
  {
   "cell_type": "markdown",
   "id": "407400bf",
   "metadata": {},
   "source": [
    "### Conditional Statements"
   ]
  },
  {
   "cell_type": "code",
   "execution_count": null,
   "id": "ade9612f",
   "metadata": {},
   "outputs": [
    {
     "name": "stdout",
     "output_type": "stream",
     "text": [
      "you re allowerd to vote inthe alection\n"
     ]
    }
   ],
   "source": [
    "## if statements\n",
    "# this is example of the  if sratements \n",
    "\n",
    "age = 20 \n",
    "if age >= 18:\n",
    "     print(\"you re allowerd to vote inthe alection\")"
   ]
  },
  {
   "cell_type": "code",
   "execution_count": null,
   "id": "aa3db546",
   "metadata": {},
   "outputs": [
    {
     "name": "stdout",
     "output_type": "stream",
     "text": [
      "You are allowed to vote\n"
     ]
    }
   ],
   "source": [
    " # else statements\n",
    " # tis is example of else statement this simple statement \n",
    "\n",
    "age = 20\n",
    "if age >= 18:\n",
    "    print(\"You are allowed to vote\")\n",
    "else:\n",
    "    print(\"You are not allowed to vote\")\n"
   ]
  },
  {
   "cell_type": "code",
   "execution_count": null,
   "id": "4aac685d",
   "metadata": {},
   "outputs": [
    {
     "name": "stdout",
     "output_type": "stream",
     "text": [
      "you are adult\n"
     ]
    }
   ],
   "source": [
    "## elif statements\n",
    "\n",
    "# this example of elif statement  this is a simple statement\n",
    "\n",
    "age = 20\n",
    "if age < 13:\n",
    "    print(\"you are a child\")\n",
    "elif age < 18:\n",
    "    print(\"you are teenager\")\n",
    "else:\n",
    "    print(\"you are adult\")"
   ]
  },
  {
   "cell_type": "code",
   "execution_count": null,
   "id": "f95fb4c8",
   "metadata": {},
   "outputs": [
    {
     "name": "stdout",
     "output_type": "stream",
     "text": [
      "the number is positive \n",
      "the number is odd\n"
     ]
    }
   ],
   "source": [
    "## Nested Condiitonal statement\n",
    "\n",
    "# this is simple example of  nested condition\n",
    "\n",
    "# this code  i will find to number is odd,even .positive or negative \n",
    "\n",
    "num = int(input(\"Enter the number\"))\n",
    "\n",
    "if num > 0:\n",
    "    print(\"the number is positive \")\n",
    "    if num%2==0:\n",
    "        print(\"the number is even\")\n",
    "    else:\n",
    "        print(\"the number is odd\")\n",
    "else:\n",
    "    print(\"the number is zero or negative\")    "
   ]
  },
  {
   "cell_type": "code",
   "execution_count": 20,
   "id": "138118f1",
   "metadata": {},
   "outputs": [
    {
     "name": "stdout",
     "output_type": "stream",
     "text": [
      "2024 is a neap year\n"
     ]
    }
   ],
   "source": [
    "# practical examples\n",
    "\n",
    "\n",
    "year = int(input(\"Enetr the year\"))\n",
    "\n",
    "if year%4==0:\n",
    "    if year%100==0:\n",
    "        if year%400==0:\n",
    "            print(year,\"is a leap year\")\n",
    "        else:\n",
    "            print(year,\"is a not leap year\") \n",
    "    else:\n",
    "        print(year,\"is a neap year\")\n",
    "else:\n",
    "    print(year,\"is a not neap year \")           "
   ]
  },
  {
   "cell_type": "code",
   "execution_count": 23,
   "id": "1b16155c",
   "metadata": {},
   "outputs": [
    {
     "name": "stdout",
     "output_type": "stream",
     "text": [
      "11.0 * 11.0 = 121.0\n"
     ]
    }
   ],
   "source": [
    "## simple calculater\n",
    "\n",
    "num1 = float(input(\"Enter first number: \"))  \n",
    "num2 = float(input(\"Enter second number: \"))\n",
    "\n",
    "operation = input(\"Enter an operation (+, -, *, /,**,//,% ): \")  \n",
    "if operation == \"+\":\n",
    "    result = num1 + num2\n",
    "    print(f\"{num1} + {num2} = {result}\")    \n",
    "elif operation == \"-\":\n",
    "    result = num1 - num2\n",
    "    print(f\"{num1} - {num2} = {result}\")        \n",
    "elif operation == \"**\":\n",
    "    result = num1 ** num2\n",
    "    print(f\"{num1} ** {num2} = {result}\")\n",
    "elif operation == \"//\":\n",
    "    result = num1 // num2\n",
    "    print(f\"{num1} // {num2} = {result}\")\n",
    "elif operation == \"%\":\n",
    "    result = num1 % num2\n",
    "    print(f\"{num1} % {num2} = {result}\")\n",
    "elif operation == \"*\":\n",
    "    result = num1 * num2\n",
    "    print(f\"{num1} * {num2} = {result}\")\n",
    "elif operation == \"/\":\n",
    "    if num2 != 0:\n",
    "        result = num1 / num2\n",
    "        print(f\"{num1} / {num2} = {result}\")\n",
    "    else:\n",
    "        print(\"Error: Division by zero is not allowed.\")    \n",
    "\n",
    "else:\n",
    "    print(\"Invalid operation. Please enter one of +, -, *, /, //.%.\")     \n",
    "    print(\"Invalid operation. Please enter one of +, -, *, /, //.%.\")    \n"
   ]
  },
  {
   "cell_type": "code",
   "execution_count": 31,
   "id": "7d6b767e",
   "metadata": {},
   "outputs": [
    {
     "name": "stdout",
     "output_type": "stream",
     "text": [
      "ticket price: $10\n"
     ]
    }
   ],
   "source": [
    "\n",
    "# determine the ticket price price based on age and whether the person is a student \n",
    "# ticket price based on a age and student status\n",
    "\n",
    "\n",
    "age = int(input(\"Enter your age: \"))\n",
    "is_student = input(\"are you a student? (yes/no): \").lower()\n",
    "\n",
    "if age < 5:\n",
    "    price = \"free\"\n",
    "elif age <= 12:\n",
    "    price = \"$10\"\n",
    "elif age <= 17:\n",
    "    if is_student == 'yes':\n",
    "        price = \"$12\"\n",
    "    else:\n",
    "        price = \"$15\"\n",
    "elif age <= 64:\n",
    "    if is_student == 'yes':\n",
    "        price = \"$18\"\n",
    "    else:\n",
    "        price = \"$25\"\n",
    "else:\n",
    "    price = \"$20\"\n",
    "\n",
    "print(\"ticket price:\", price)\n",
    "\n",
    "     \n"
   ]
  },
  {
   "cell_type": "code",
   "execution_count": null,
   "id": "78aa241b",
   "metadata": {},
   "outputs": [],
   "source": []
  }
 ],
 "metadata": {
  "kernelspec": {
   "display_name": "Python 3",
   "language": "python",
   "name": "python3"
  },
  "language_info": {
   "codemirror_mode": {
    "name": "ipython",
    "version": 3
   },
   "file_extension": ".py",
   "mimetype": "text/x-python",
   "name": "python",
   "nbconvert_exporter": "python",
   "pygments_lexer": "ipython3",
   "version": "3.13.0"
  }
 },
 "nbformat": 4,
 "nbformat_minor": 5
}
