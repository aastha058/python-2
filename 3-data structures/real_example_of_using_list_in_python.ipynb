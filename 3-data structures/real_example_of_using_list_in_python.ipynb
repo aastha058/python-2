{
 "cells": [
  {
   "cell_type": "markdown",
   "id": "a005bf23",
   "metadata": {},
   "source": [
    "##### Real Example of using list in Python "
   ]
  },
  {
   "cell_type": "markdown",
   "id": "9ba698bb",
   "metadata": {},
   "source": [
    "### Manage a to do list"
   ]
  },
  {
   "cell_type": "markdown",
   "id": "bc1f9cf2",
   "metadata": {},
   "source": [
    "### create a to do list to keep track of task-\n"
   ]
  },
  {
   "cell_type": "code",
   "execution_count": 6,
   "id": "3c280c49",
   "metadata": {},
   "outputs": [
    {
     "name": "stdout",
     "output_type": "stream",
     "text": [
      "Don't forget to call mom!\n",
      "To-do list remaining tasks:\n",
      "- buy groceries\n",
      "- finish homework\n",
      "- clean the house\n",
      "- call mom\n",
      "- walk the dog\n"
     ]
    }
   ],
   "source": [
    "\n",
    "to_do_list = [\"buy groceries\", \"clean the house\", \"pay bills\", \"call mom\"]\n",
    "  \n",
    "# Add a new task\n",
    "to_do_list.append(\"walk the dog\")\n",
    "to_do_list.insert(1, \"finish homework\")\n",
    "\n",
    "# remove a task\n",
    "to_do_list.remove(\"pay bills\")\n",
    "\n",
    "#check if a task is in the list\n",
    "if \"call mom\" in to_do_list:\n",
    "    print(\"Don't forget to call mom!\")\n",
    "\n",
    "print(\"To-do list remaining tasks:\")\n",
    "for task in to_do_list:\n",
    "    print(f\"- {task}\")"
   ]
  },
  {
   "cell_type": "markdown",
   "id": "283dc0ce",
   "metadata": {},
   "source": [
    "##### Organizing students grades"
   ]
  },
  {
   "cell_type": "markdown",
   "id": "997e9140",
   "metadata": {},
   "source": [
    "### create a list to store and calculate everage grades for students"
   ]
  },
  {
   "cell_type": "code",
   "execution_count": 12,
   "id": "0d17eea4",
   "metadata": {},
   "outputs": [
    {
     "name": "stdout",
     "output_type": "stream",
     "text": [
      "Average grade: 88.33\n",
      "Highest grade: 95\n",
      "Lowest grade: 80\n"
     ]
    }
   ],
   "source": [
    "grade = [85, 90, 78, 92, 88]\n",
    "\n",
    "# add a new grade\n",
    "grade.append(95)\n",
    "grade.insert(2, 80)\n",
    "\n",
    "# remove a grade\n",
    "grade.remove(78)\n",
    "\n",
    "# calculate the average grade\n",
    "average = sum(grade) / len(grade)\n",
    "print(f\"Average grade: {average:.2f}\")\n",
    "\n",
    "# find the highest and lowest grade\n",
    "highest = max(grade)\n",
    "lowest = min(grade)\n",
    "\n",
    "print(f\"Highest grade: {highest}\")\n",
    "print(f\"Lowest grade: {lowest}\")\n",
    "\n"
   ]
  },
  {
   "cell_type": "markdown",
   "id": "80cc2d72",
   "metadata": {},
   "source": [
    "##### Manage an inventory\n",
    "\n",
    "#### use a list to manage inventory item in a store- "
   ]
  },
  {
   "cell_type": "code",
   "execution_count": 22,
   "id": "fa31e4c5",
   "metadata": {},
   "outputs": [
    {
     "name": "stdout",
     "output_type": "stream",
     "text": [
      "grape is in stock.\n",
      "Current inventory:\n",
      "- apple\n",
      "- kiwi\n",
      "- orange\n",
      "- grape\n",
      "- mango\n"
     ]
    }
   ],
   "source": [
    "manage_inventory = [\"apple\", \"banana\", \"orange\", \"grape\"]\n",
    "\n",
    " # add new items\n",
    "\n",
    "manage_inventory.append(\"mango\")\n",
    "manage_inventory.insert(2, \"kiwi\")\n",
    "\n",
    "\n",
    "\n",
    "    # remove an item\n",
    "manage_inventory.remove(\"banana\")\n",
    "\n",
    "    # check if an item is in the inventory\n",
    "item = \"grape\"\n",
    "if item in manage_inventory:\n",
    "     print(f\"{item} is in stock.\")\n",
    "else:\n",
    "     print(f\"{item} is out of stock.\")\n",
    "\n",
    "        # print the current inventory\n",
    "print(\"Current inventory:\")\n",
    "for item in manage_inventory:\n",
    "     print(f\"- {item}\")"
   ]
  },
  {
   "cell_type": "markdown",
   "id": "30215079",
   "metadata": {},
   "source": [
    "##### callecting user feedback\n",
    "\n",
    "#### use a list callect and analyze user feedback"
   ]
  },
  {
   "cell_type": "code",
   "execution_count": null,
   "id": "f9d8a2af",
   "metadata": {},
   "outputs": [
    {
     "name": "stdout",
     "output_type": "stream",
     "text": [
      "User feedback:\n",
      "- Great service!\n",
      "- Loved the product!\n",
      "Positive feedback count: 2\n"
     ]
    }
   ],
   "source": [
    "\n",
    "feedback = []# collect user feedback\n",
    "feedback.append(\"Great service!\")   \n",
    "feedback.append(\"Could be better.\")\n",
    "feedback.insert(1, \"Loved the product!\")\n",
    "feedback.remove(\"Could be better.\")\n",
    "print(\"User feedback:\")\n",
    "for comment in feedback:\n",
    "    print(f\"- {comment}\")\n",
    "# Analyze feedback\n",
    "positive_feedback = [comment for comment in feedback if \"Great\" in comment or \"Loved\" in comment]\n",
    "print(f\"Positive feedback count: {len(positive_feedback)}\")\n",
    "\n",
    "\n"
   ]
  },
  {
   "cell_type": "code",
   "execution_count": 24,
   "id": "1e7a6933",
   "metadata": {},
   "outputs": [
    {
     "name": "stdout",
     "output_type": "stream",
     "text": [
      "User feedback:\n",
      "- Great service!\n",
      "- Fast delivery.\n",
      "- Loved the product!\n",
      "- Excellent quality!\n",
      "Positive feedback count: 3\n"
     ]
    }
   ],
   "source": [
    "\n",
    "feedback = [\"Great service!\", \"Could be better.\", \"Loved the product!\"]\n",
    "\n",
    "# add new feedback\n",
    "feedback.append(\"Excellent quality!\")\n",
    "\n",
    "feedback.insert(1, \"Fast delivery.\")\n",
    "\n",
    "# remove feedback\n",
    "feedback.remove(\"Could be better.\") \n",
    "\n",
    "# print all feedback\n",
    "print(\"User feedback:\")\n",
    "for comment in feedback:\n",
    "    print(f\"- {comment}\")\n",
    "# Analyze feedback\n",
    "positive_feedback = [comment for comment in feedback if \"Great\" in comment or \"Loved\" in comment or \"Excellent\" in comment]\n",
    "print(f\"Positive feedback count: {len(positive_feedback)}\")\n"
   ]
  },
  {
   "cell_type": "code",
   "execution_count": null,
   "id": "9a5d9435",
   "metadata": {},
   "outputs": [],
   "source": []
  }
 ],
 "metadata": {
  "kernelspec": {
   "display_name": "Python 3",
   "language": "python",
   "name": "python3"
  },
  "language_info": {
   "codemirror_mode": {
    "name": "ipython",
    "version": 3
   },
   "file_extension": ".py",
   "mimetype": "text/x-python",
   "name": "python",
   "nbconvert_exporter": "python",
   "pygments_lexer": "ipython3",
   "version": "3.13.0"
  }
 },
 "nbformat": 4,
 "nbformat_minor": 5
}
