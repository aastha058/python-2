{
 "cells": [
  {
   "cell_type": "markdown",
   "id": "f60acf1a",
   "metadata": {},
   "source": [
    "### List"
   ]
  },
  {
   "cell_type": "code",
   "execution_count": 1,
   "id": "34bb3f28",
   "metadata": {},
   "outputs": [
    {
     "name": "stdout",
     "output_type": "stream",
     "text": [
      "<class 'list'>\n"
     ]
    }
   ],
   "source": [
    "lst=[]\n",
    "print(type(lst))  #list\n"
   ]
  },
  {
   "cell_type": "code",
   "execution_count": 2,
   "id": "14dd73a1",
   "metadata": {},
   "outputs": [
    {
     "name": "stdout",
     "output_type": "stream",
     "text": [
      "['apple', 'banana', 'cherry']\n"
     ]
    }
   ],
   "source": [
    "lst=[\"apple\",\"banana\",\"cherry\"]\n",
    "print(lst)"
   ]
  },
  {
   "cell_type": "code",
   "execution_count": 3,
   "id": "900b0b85",
   "metadata": {},
   "outputs": [
    {
     "name": "stdout",
     "output_type": "stream",
     "text": [
      "[1, 2, 3, 4, 5]\n"
     ]
    }
   ],
   "source": [
    "lsr=[1,2,3,4,5]\n",
    "print(lsr)"
   ]
  },
  {
   "cell_type": "code",
   "execution_count": 4,
   "id": "6bfeeada",
   "metadata": {},
   "outputs": [
    {
     "name": "stdout",
     "output_type": "stream",
     "text": [
      "[1, 'apple', 3.5, True]\n"
     ]
    }
   ],
   "source": [
    "mixed=[1,\"apple\",3.5,True]\n",
    "print(mixed)"
   ]
  },
  {
   "cell_type": "code",
   "execution_count": 5,
   "id": "0f8ab458",
   "metadata": {},
   "outputs": [],
   "source": [
    "animals=[\"cat\",\"dog\",\"rabbit\",\"elephant\",\"tiger\",\"lion\"]"
   ]
  },
  {
   "cell_type": "code",
   "execution_count": 6,
   "id": "70265e17",
   "metadata": {},
   "outputs": [
    {
     "name": "stdout",
     "output_type": "stream",
     "text": [
      "cat\n",
      "rabbit\n",
      "lion\n",
      "elephant\n",
      "['dog', 'rabbit', 'elephant']\n",
      "['cat', 'dog', 'rabbit']\n",
      "['rabbit', 'elephant', 'tiger', 'lion']\n",
      "['rabbit', 'elephant', 'tiger']\n",
      "['elephant', 'tiger', 'lion']\n",
      "['cat', 'wolf', 'rabbit', 'elephant', 'tiger', 'lion']\n",
      "['cat', 'wolf', 'rabbit', 'elephant', 'tiger', 'lion', 'giraffe']\n",
      "['cat', 'wolf', 'deer', 'rabbit', 'elephant', 'tiger', 'lion', 'giraffe']\n",
      "['cat', 'wolf', 'deer', 'rabbit', 'tiger', 'lion', 'giraffe']\n",
      "giraffe\n",
      "['cat', 'wolf', 'deer', 'rabbit', 'tiger', 'lion']\n"
     ]
    }
   ],
   "source": [
    "print(animals[0])  #cat\n",
    "print(animals[2])  #rabbit      \n",
    "print(animals[-1]) #lion\n",
    "print(animals[-3]) #tiger       \n",
    "print(animals[1:4]) #['dog', 'rabbit', 'elephant']\n",
    "print(animals[:3])  #['cat', 'dog', 'rabbit']   \n",
    "print(animals[2:])  #['rabbit', 'elephant', 'tiger', 'lion']\n",
    "print(animals[-4:-1]) #['elephant', 'tiger', 'lion']\n",
    "print(animals[-3:])   #['tiger', 'lion']    \n",
    "animals[1]=\"wolf\"\n",
    "print(animals)  #['cat', 'wolf', 'rabbit', 'elephant', 'tiger', 'lion']\n",
    "animals.append(\"giraffe\")   \n",
    "print(animals)  #['cat', 'wolf', 'rabbit', 'elephant', 'tiger', 'lion', 'giraffe']\n",
    "\n",
    "animals.insert(2,\"deer\")\n",
    "print(animals)  #['cat', 'wolf', 'deer', 'rabbit', 'elephant', 'tiger', 'lion', 'giraffe']\n",
    "animals.remove(\"elephant\")\n",
    "print(animals)  #['cat', 'wolf', 'deer', 'rabbit', 'tiger', 'lion', 'giraffe']\n",
    "popped_animal=animals.pop() \n",
    "print(popped_animal)  #giraffe\n",
    "print(animals)  #['cat', 'wolf', 'deer', 'rabbit',"
   ]
  },
  {
   "cell_type": "code",
   "execution_count": 7,
   "id": "90928931",
   "metadata": {},
   "outputs": [
    {
     "name": "stdout",
     "output_type": "stream",
     "text": [
      "[30, 40, 50]\n",
      "[10, 20, 30, 40]\n",
      "[60, 70, 80, 90, 100]\n",
      "[60, 70, 80]\n",
      "[80, 90, 100]\n",
      "[10, 30, 50, 70, 90]\n",
      "[20, 40, 60, 80, 100]\n",
      "[100, 90, 80, 70, 60, 50, 40, 30, 20, 10]\n",
      "[40, 30, 20, 10]\n",
      "[100, 90, 80]\n",
      "[50, 40, 30]\n",
      "[80, 70, 60, 50]\n",
      "[60, 50, 40]\n",
      "[90, 80, 70, 60]\n",
      "[100, 90, 80]\n"
     ]
    }
   ],
   "source": [
    "# slicing list\n",
    "\n",
    "numbers=[10,20,30,40,50,60,70,80,90,100]\n",
    "print(numbers[2:5])  #[30, 40, 50]  \n",
    "print(numbers[:4])   #[10, 20, 30, 40]\n",
    "print(numbers[5:])   #[60, 70, 80, 90, 100]\n",
    "print(numbers[-5:-2]) #[60, 70, 80]\n",
    "print(numbers[-3:])   #[80, 90, 100]\n",
    "print(numbers[::2])   #[10, 30, 50, 70, 90]\n",
    "print(numbers[1::2])  #[20, 40, 60, 80, 100]\n",
    "print(numbers[::-1])  #[100, 90, 80, 70,\n",
    "# 60, 50, 40, 30, 20, 10] 20, 10]\n",
    "print(numbers[3::-1]) #[40, 30, 20, 10]     \n",
    "print(numbers[:-4:-1]) #[100, 90, 80]\n",
    "print(numbers[4:1:-1]) #[50, 40, 30]\n",
    "print(numbers[7:3:-1]) #[80, 70, 60, 50]\n",
    "print(numbers[5:2:-1]) #[60, 50, 40]\n",
    "print(numbers[8:4:-1]) #[90, 80, 70, 60]\n",
    "print(numbers[9:6:-1]) #[100, 90, 80]\n",
    "\n",
    "    "
   ]
  },
  {
   "cell_type": "code",
   "execution_count": null,
   "id": "345470a2",
   "metadata": {},
   "outputs": [
    {
     "name": "stdout",
     "output_type": "stream",
     "text": [
      "cat\n",
      "wolf\n",
      "deer\n",
      "rabbit\n",
      "tiger\n",
      "lion\n"
     ]
    }
   ],
   "source": [
    "# iterating over a list\n",
    "\n",
    "for animal in animals:\n",
    "    print(animal)           \n"
   ]
  },
  {
   "cell_type": "code",
   "execution_count": null,
   "id": "815ff8b1",
   "metadata": {},
   "outputs": [
    {
     "name": "stdout",
     "output_type": "stream",
     "text": [
      "10\n",
      "20\n",
      "30\n",
      "40\n",
      "50\n",
      "60\n",
      "70\n",
      "80\n",
      "90\n",
      "100\n"
     ]
    }
   ],
   "source": [
    "\n",
    "for number in numbers:\n",
    "    print(number)"
   ]
  },
  {
   "cell_type": "code",
   "execution_count": 19,
   "id": "111a4d27",
   "metadata": {},
   "outputs": [
    {
     "name": "stdout",
     "output_type": "stream",
     "text": [
      "0 10\n",
      "1 20\n",
      "2 30\n",
      "3 40\n",
      "4 50\n",
      "5 60\n",
      "6 70\n",
      "7 80\n",
      "8 90\n",
      "9 100\n"
     ]
    }
   ],
   "source": [
    "# iterating with index\n",
    " \n",
    "for index, number in enumerate(numbers):\n",
    "    print(index, number)\n",
    "\n"
   ]
  },
  {
   "cell_type": "code",
   "execution_count": 20,
   "id": "f815b31d",
   "metadata": {},
   "outputs": [
    {
     "name": "stdout",
     "output_type": "stream",
     "text": [
      "[0]\n",
      "[0, 2]\n",
      "[0, 2, 4]\n",
      "[0, 2, 4, 6]\n",
      "[0, 2, 4, 6, 8]\n",
      "[0, 2, 4, 6, 8, 10]\n",
      "[0, 2, 4, 6, 8, 10, 12]\n",
      "[0, 2, 4, 6, 8, 10, 12, 14]\n",
      "[0, 2, 4, 6, 8, 10, 12, 14, 16]\n",
      "[0, 2, 4, 6, 8, 10, 12, 14, 16, 18]\n",
      "[0, 2, 4, 6, 8, 10, 12, 14, 16, 18, 20]\n"
     ]
    }
   ],
   "source": [
    "# list comprehension\n",
    "\n",
    "lst=[]\n",
    "for i in range(11):\n",
    "    lst.append(i*2)\n",
    "    print(lst)"
   ]
  },
  {
   "cell_type": "code",
   "execution_count": 24,
   "id": "f8159b53",
   "metadata": {},
   "outputs": [
    {
     "name": "stdout",
     "output_type": "stream",
     "text": [
      "[0]\n",
      "[0, 2]\n",
      "[0, 2, 4]\n",
      "[0, 2, 4, 6]\n",
      "[0, 2, 4, 6, 8]\n",
      "[0, 2, 4, 6, 8, 10]\n"
     ]
    }
   ],
   "source": [
    "\n",
    "lst=[]\n",
    "for i in range(6):\n",
    "    lst.append(i*2)\n",
    "    print(lst)"
   ]
  },
  {
   "cell_type": "code",
   "execution_count": 29,
   "id": "1090aa32",
   "metadata": {},
   "outputs": [
    {
     "name": "stdout",
     "output_type": "stream",
     "text": [
      "[0]\n",
      "[0, 1]\n",
      "[0, 1, 4]\n",
      "[0, 1, 4, 9]\n",
      "[0, 1, 4, 9, 16]\n",
      "[0, 1, 4, 9, 16, 25]\n",
      "[0, 1, 4, 9, 16, 25, 36]\n",
      "[0, 1, 4, 9, 16, 25, 36, 49]\n",
      "[0, 1, 4, 9, 16, 25, 36, 49, 64]\n",
      "[0, 1, 4, 9, 16, 25, 36, 49, 64, 81]\n"
     ]
    }
   ],
   "source": [
    "lst=[]\n",
    "for x in range(10):\n",
    "    lst.append(x**2)\n",
    "   \n",
    "    print(lst)"
   ]
  },
  {
   "cell_type": "code",
   "execution_count": 30,
   "id": "69079696",
   "metadata": {},
   "outputs": [
    {
     "name": "stdout",
     "output_type": "stream",
     "text": [
      "[0, 1, 4, 9, 16, 25, 36, 49, 64, 81]\n"
     ]
    }
   ],
   "source": [
    "# Basic list comprehension \n",
    "\n",
    "squares = [num ** 2 for num in range(10)]\n",
    "print(squares)  # [0, 1, 4, 9, 16, 25, 36, 49, 64, 81]"
   ]
  },
  {
   "cell_type": "code",
   "execution_count": 31,
   "id": "d2b2f07a",
   "metadata": {},
   "outputs": [
    {
     "name": "stdout",
     "output_type": "stream",
     "text": [
      "[0, 2, 4, 6, 8]\n"
     ]
    }
   ],
   "source": [
    "# list comprehension with condition \n",
    "\n",
    "lst=[]\n",
    "for i in range(10):\n",
    "    if i % 2 == 0:\n",
    "        lst.append(i)       \n",
    "print(lst)  #[0, 2, 4, 6, 8]"
   ]
  },
  {
   "cell_type": "code",
   "execution_count": 32,
   "id": "65ccb5b9",
   "metadata": {},
   "outputs": [
    {
     "name": "stdout",
     "output_type": "stream",
     "text": [
      "[(1, 'a'), (1, 'b'), (1, 'c'), (1, 'd'), (2, 'a'), (2, 'b'), (2, 'c'), (2, 'd'), (3, 'a'), (3, 'b'), (3, 'c'), (3, 'd'), (4, 'a'), (4, 'b'), (4, 'c'), (4, 'd')]\n"
     ]
    }
   ],
   "source": [
    "# nested list comprehension\n",
    "\n",
    "lst1=[1,2,3,4]\n",
    "lst2=[\"a\",\"b\",\"c\",\"d\"]\n",
    "\n",
    "pair = [(x, y) for x in lst1 for y in lst2]\n",
    "print(pair)"
   ]
  },
  {
   "cell_type": "code",
   "execution_count": 33,
   "id": "b4087ab9",
   "metadata": {},
   "outputs": [
    {
     "name": "stdout",
     "output_type": "stream",
     "text": [
      "[5, 5, 6, 2, 7]\n"
     ]
    }
   ],
   "source": [
    "# list comprehension with  function call\n",
    "\n",
    "word=[\"hello\",\"world\",\"python\",\"is\",\"awesome\"]\n",
    "lengths = [len(w) for w in word]\n",
    "print(lengths)"
   ]
  }
 ],
 "metadata": {
  "kernelspec": {
   "display_name": "Python 3",
   "language": "python",
   "name": "python3"
  },
  "language_info": {
   "codemirror_mode": {
    "name": "ipython",
    "version": 3
   },
   "file_extension": ".py",
   "mimetype": "text/x-python",
   "name": "python",
   "nbconvert_exporter": "python",
   "pygments_lexer": "ipython3",
   "version": "3.13.0"
  }
 },
 "nbformat": 4,
 "nbformat_minor": 5
}
