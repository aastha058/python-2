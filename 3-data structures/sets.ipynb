{
 "cells": [
  {
   "cell_type": "markdown",
   "id": "fe02280c",
   "metadata": {},
   "source": [
    "##### Sets\n"
   ]
  },
  {
   "cell_type": "markdown",
   "id": "93f62ef1",
   "metadata": {},
   "source": [
    "#### sets are abuilt in data type in python use to stare callections of uniqe item they are unardered meaning that the element do not follow a specifil order and they do not allow duplicate element sets are useful for membership set opration like union ittemersections difference and symmentric diffrenc."
   ]
  },
  {
   "cell_type": "code",
   "execution_count": 1,
   "id": "a00f375e",
   "metadata": {},
   "outputs": [
    {
     "name": "stdout",
     "output_type": "stream",
     "text": [
      "{1, 2, 3, 4, 5}\n",
      "<class 'set'>\n"
     ]
    }
   ],
   "source": [
    "my_set = {1,2,3,4,5}\n",
    "print(my_set)\n",
    "print(type(my_set))"
   ]
  },
  {
   "cell_type": "code",
   "execution_count": 2,
   "id": "524fb777",
   "metadata": {},
   "outputs": [
    {
     "name": "stdout",
     "output_type": "stream",
     "text": [
      "<class 'set'>\n"
     ]
    }
   ],
   "source": [
    "my_empty_set = set()\n",
    "print(type(my_empty_set))"
   ]
  },
  {
   "cell_type": "code",
   "execution_count": null,
   "id": "cad7486b",
   "metadata": {},
   "outputs": [
    {
     "name": "stdout",
     "output_type": "stream",
     "text": [
      "{1, 2, 3, 4, 5, 6}\n"
     ]
    }
   ],
   "source": [
    "my_set = set([1,2,3,4,5,6])\n",
    "print(my_set)"
   ]
  },
  {
   "cell_type": "code",
   "execution_count": null,
   "id": "4470c6dc",
   "metadata": {},
   "outputs": [
    {
     "name": "stdout",
     "output_type": "stream",
     "text": [
      "{1, 2, 3, 4, 5, 6, 7}\n"
     ]
    }
   ],
   "source": [
    "# add the element\n",
    "\n",
    "my_set.add(7)\n",
    "print(my_set)"
   ]
  },
  {
   "cell_type": "code",
   "execution_count": null,
   "id": "0bbbe665",
   "metadata": {},
   "outputs": [
    {
     "name": "stdout",
     "output_type": "stream",
     "text": [
      "{1, 3, 4, 5, 6, 7}\n"
     ]
    }
   ],
   "source": [
    "# remove the element\n",
    "\n",
    "my_set.remove(2)\n",
    "print(my_set)"
   ]
  },
  {
   "cell_type": "code",
   "execution_count": 6,
   "id": "f5ee7654",
   "metadata": {},
   "outputs": [
    {
     "name": "stdout",
     "output_type": "stream",
     "text": [
      "1\n",
      "{3, 4, 5, 6, 7}\n"
     ]
    }
   ],
   "source": [
    "# pop method \n",
    "\n",
    "removed_element = my_set.pop()\n",
    "print(removed_element)\n",
    "print(my_set)"
   ]
  },
  {
   "cell_type": "code",
   "execution_count": 8,
   "id": "77edd787",
   "metadata": {},
   "outputs": [
    {
     "name": "stdout",
     "output_type": "stream",
     "text": [
      "set()\n"
     ]
    }
   ],
   "source": [
    "## clear  all the element \n",
    "\n",
    "my_set.clear()\n",
    "print(my_set)"
   ]
  },
  {
   "cell_type": "code",
   "execution_count": 9,
   "id": "df9033b4",
   "metadata": {},
   "outputs": [
    {
     "name": "stdout",
     "output_type": "stream",
     "text": [
      "True\n",
      "False\n"
     ]
    }
   ],
   "source": [
    "# set membership opration \n",
    "\n",
    "my_set = {1,2,3,4,5}\n",
    "print(3 in my_set)\n",
    "print(10 in my_set)\n"
   ]
  },
  {
   "cell_type": "code",
   "execution_count": null,
   "id": "35edf967",
   "metadata": {},
   "outputs": [
    {
     "name": "stdout",
     "output_type": "stream",
     "text": [
      "{1, 2, 3, 4, 5, 6, 7, 8, 9}\n"
     ]
    }
   ],
   "source": [
    " ## mathematical operation\n",
    "\n",
    "set1={1, 2, 3, 4 ,5}\n",
    "set2={6, 7, 8, 9, 5}\n",
    "\n",
    " # union\n",
    "union_set= set1.union(set2)\n",
    "print(union_set)"
   ]
  },
  {
   "cell_type": "code",
   "execution_count": 5,
   "id": "949f2a93",
   "metadata": {},
   "outputs": [
    {
     "name": "stdout",
     "output_type": "stream",
     "text": [
      "{5}\n",
      "{5}\n"
     ]
    }
   ],
   "source": [
    "#intersection \n",
    "\n",
    "intersection_set=set1.intersection(set2)\n",
    "print(intersection_set)\n",
    "\n",
    "set1.intersection_update(set2)\n",
    "print(set1)\n",
    "\n"
   ]
  },
  {
   "cell_type": "code",
   "execution_count": 9,
   "id": "31197880",
   "metadata": {},
   "outputs": [
    {
     "name": "stdout",
     "output_type": "stream",
     "text": [
      "{1, 2, 3, 4}\n"
     ]
    }
   ],
   "source": [
    "# difference \n",
    "\n",
    "x={1,2,3,4,5}\n",
    "y={5,6,7,8,9}\n",
    " \n",
    "\n",
    "print(x.difference(y))"
   ]
  },
  {
   "cell_type": "code",
   "execution_count": 10,
   "id": "ece23db4",
   "metadata": {},
   "outputs": [
    {
     "data": {
      "text/plain": [
       "{1, 2, 3, 4, 6, 7, 8, 9}"
      ]
     },
     "execution_count": 10,
     "metadata": {},
     "output_type": "execute_result"
    }
   ],
   "source": [
    "# symmetric difference\n",
    "\n",
    "x.symmetric_difference(y)\n"
   ]
  },
  {
   "cell_type": "code",
   "execution_count": 15,
   "id": "7ff4f9b1",
   "metadata": {},
   "outputs": [
    {
     "name": "stdout",
     "output_type": "stream",
     "text": [
      "False\n",
      "True\n"
     ]
    }
   ],
   "source": [
    "# set method \n",
    "\n",
    "x={1,2,3,4,5,6,7}\n",
    "y={5,6,7}\n",
    "\n",
    "print(x.issubset(y))\n",
    "print(x.issuperset(y))"
   ]
  },
  {
   "cell_type": "code",
   "execution_count": 16,
   "id": "a207fa35",
   "metadata": {},
   "outputs": [
    {
     "name": "stdout",
     "output_type": "stream",
     "text": [
      "{'aasth', 'is', 'reading', 'book', 'a'}\n",
      "5\n"
     ]
    }
   ],
   "source": [
    "# counting unique worde in text\n",
    "\n",
    "text=\" aasth is reading a book\"\n",
    "word=text.split()\n",
    "\n",
    "# convert list of word to set to get uniqu word\n",
    "\n",
    "union_word=set(word)\n",
    "print(union_word)\n",
    "print(len(union_word))"
   ]
  },
  {
   "cell_type": "code",
   "execution_count": 2,
   "id": "6ea39367",
   "metadata": {},
   "outputs": [
    {
     "name": "stdout",
     "output_type": "stream",
     "text": [
      "{'name': 'aastha', 'age': '20', 'gread': '24'}\n",
      "<class 'dict'>\n"
     ]
    }
   ],
   "source": [
    "student={\"name\":\"aastha\",\"age\":\"20\",\"gread\":\"24\"}\n",
    "\n",
    "print(student)\n",
    "print(type(student))"
   ]
  },
  {
   "cell_type": "code",
   "execution_count": 13,
   "id": "e3dde36a",
   "metadata": {},
   "outputs": [
    {
     "name": "stdout",
     "output_type": "stream",
     "text": [
      "{'name': 'aastha', 'age': '20'}\n",
      "<class 'dict'>\n"
     ]
    }
   ],
   "source": [
    "# single key is always used\n",
    "\n",
    "student={\"name\":\"aastha\",\"age\":\"20\"}\n",
    "\n",
    "print(student)\n",
    "print(type(student))"
   ]
  },
  {
   "cell_type": "code",
   "execution_count": 15,
   "id": "748d0370",
   "metadata": {},
   "outputs": [
    {
     "name": "stdout",
     "output_type": "stream",
     "text": [
      "20\n",
      "aastha\n"
     ]
    }
   ],
   "source": [
    "print(student['age'])\n",
    "print(student['name'])"
   ]
  },
  {
   "cell_type": "code",
   "execution_count": 19,
   "id": "2297e695",
   "metadata": {},
   "outputs": [
    {
     "name": "stdout",
     "output_type": "stream",
     "text": [
      "20\n",
      "not avaiable\n",
      "aastha\n"
     ]
    }
   ],
   "source": [
    "# accessing using get() method\n",
    "\n",
    "print(student.get('age'))\n",
    "print(student.get('last_name',\"not avaiable\"))\n",
    "print(student.get('name'))"
   ]
  },
  {
   "cell_type": "code",
   "execution_count": 20,
   "id": "19257a6e",
   "metadata": {},
   "outputs": [
    {
     "name": "stdout",
     "output_type": "stream",
     "text": [
      "{'name': 'aastha', 'age': '20'}\n"
     ]
    }
   ],
   "source": [
    "print(student)"
   ]
  },
  {
   "cell_type": "code",
   "execution_count": 21,
   "id": "44eb7260",
   "metadata": {},
   "outputs": [
    {
     "name": "stdout",
     "output_type": "stream",
     "text": [
      "{'name': 'aastha', 'age': 22}\n",
      "{'name': 'aastha', 'age': 22, 'address': 'india'}\n"
     ]
    }
   ],
   "source": [
    "student[\"age\"]=22\n",
    "print(student)\n",
    "student[\"address\"]=\"india\"\n",
    "print(student)"
   ]
  },
  {
   "cell_type": "code",
   "execution_count": 22,
   "id": "30354b31",
   "metadata": {},
   "outputs": [
    {
     "name": "stdout",
     "output_type": "stream",
     "text": [
      "{'name': 'aastha', 'age': 22, 'address': 'india', 'gread': 'A'}\n"
     ]
    }
   ],
   "source": [
    "student[\"gread\"]=\"A\"\n",
    "print(student)"
   ]
  },
  {
   "cell_type": "code",
   "execution_count": 23,
   "id": "465da0c6",
   "metadata": {},
   "outputs": [
    {
     "name": "stdout",
     "output_type": "stream",
     "text": [
      "{'name': 'aastha', 'age': 22, 'address': 'india'}\n"
     ]
    }
   ],
   "source": [
    "del student['gread']\n",
    "print(student)"
   ]
  },
  {
   "cell_type": "code",
   "execution_count": 24,
   "id": "bf63f391",
   "metadata": {},
   "outputs": [
    {
     "name": "stdout",
     "output_type": "stream",
     "text": [
      "{'name': 'aastha', 'age': 22, 'address': 'india', 'gread': 'A'}\n"
     ]
    }
   ],
   "source": [
    "student[\"gread\"]=\"A\"\n",
    "print(student)"
   ]
  },
  {
   "cell_type": "code",
   "execution_count": null,
   "id": "2f181be9",
   "metadata": {},
   "outputs": [
    {
     "name": "stdout",
     "output_type": "stream",
     "text": [
      "dict_keys(['name', 'age', 'address', 'gread'])\n",
      "dict_values(['aastha', 22, 'india', 'A'])\n",
      "dict_items([('name', 'aastha'), ('age', 22), ('address', 'india'), ('gread', 'A')])\n"
     ]
    }
   ],
   "source": [
    "## dictionory method\n",
    "\n",
    "keys=student.keys()\n",
    "print(keys) # get all the keys\n",
    "values=student.values()\n",
    "print(values)  # get all the values\n",
    "\n",
    "items=student.items()\n",
    "print(items) et #all the key values pairs"
   ]
  },
  {
   "cell_type": "code",
   "execution_count": 28,
   "id": "83445928",
   "metadata": {},
   "outputs": [
    {
     "name": "stdout",
     "output_type": "stream",
     "text": [
      "{'name': 'aastha', 'age': 22, 'address': 'india', 'gread': 'A'}\n",
      "{'name': 'aastha', 'age': 22, 'address': 'india', 'gread': 'A'}\n"
     ]
    }
   ],
   "source": [
    "# shallow copy\n",
    "\n",
    "student_copy = student\n",
    "print(student)\n",
    "print(student_copy)"
   ]
  },
  {
   "cell_type": "code",
   "execution_count": 29,
   "id": "1506d960",
   "metadata": {},
   "outputs": [
    {
     "name": "stdout",
     "output_type": "stream",
     "text": [
      "{'name': 'aastha2', 'age': 22, 'address': 'india', 'gread': 'A'}\n",
      "{'name': 'aastha2', 'age': 22, 'address': 'india', 'gread': 'A'}\n"
     ]
    }
   ],
   "source": [
    "student[\"name\"]=\"aastha2\"\n",
    "print(student_copy)\n",
    "print(student)"
   ]
  },
  {
   "cell_type": "code",
   "execution_count": 30,
   "id": "990aecb7",
   "metadata": {},
   "outputs": [
    {
     "name": "stdout",
     "output_type": "stream",
     "text": [
      "{'name': 'aastha2', 'age': 22, 'address': 'india', 'gread': 'A'}\n",
      "{'name': 'aastha2', 'age': 22, 'address': 'india', 'gread': 'A'}\n"
     ]
    }
   ],
   "source": [
    "# and then we use shollow copy \n",
    "\n",
    "student_copy1 = student.copy()\n",
    "print(student_copy1)\n",
    "print(student)"
   ]
  },
  {
   "cell_type": "code",
   "execution_count": 32,
   "id": "158cf5ca",
   "metadata": {},
   "outputs": [
    {
     "name": "stdout",
     "output_type": "stream",
     "text": [
      "{'name': 'aastha2', 'age': 22, 'address': 'india', 'gread': 'A'}\n",
      "{'name': 'aastha3', 'age': 22, 'address': 'india', 'gread': 'A'}\n"
     ]
    }
   ],
   "source": [
    "# then change the value\n",
    "\n",
    "student[\"name\"]=\"aastha3\"\n",
    "print(student_copy1)\n",
    "print(student)"
   ]
  },
  {
   "cell_type": "code",
   "execution_count": null,
   "id": "dcdfc066",
   "metadata": {},
   "outputs": [
    {
     "name": "stdout",
     "output_type": "stream",
     "text": [
      "name\n",
      "age\n",
      "address\n",
      "gread\n"
     ]
    }
   ],
   "source": [
    "## iterating over dictionaries\n",
    "\n",
    "# you can use loops to iterate over dictionries keys values or item\n",
    "\n",
    "# iterating over key\n",
    "\n",
    "for keys in student.keys():\n",
    "    print(keys)\n"
   ]
  },
  {
   "cell_type": "code",
   "execution_count": 37,
   "id": "68f85cba",
   "metadata": {},
   "outputs": [
    {
     "name": "stdout",
     "output_type": "stream",
     "text": [
      "aastha3\n",
      "22\n",
      "india\n",
      "A\n"
     ]
    }
   ],
   "source": [
    "# iterating over values\n",
    "\n",
    "for values in student.values():\n",
    "    print(values)"
   ]
  },
  {
   "cell_type": "code",
   "execution_count": 38,
   "id": "bff3adff",
   "metadata": {},
   "outputs": [
    {
     "name": "stdout",
     "output_type": "stream",
     "text": [
      "('name', 'aastha3')\n",
      "('age', 22)\n",
      "('address', 'india')\n",
      "('gread', 'A')\n"
     ]
    }
   ],
   "source": [
    "# iterating over item\n",
    "\n",
    "for items in student.items():\n",
    "    print(items)"
   ]
  },
  {
   "cell_type": "code",
   "execution_count": 39,
   "id": "9f8f903f",
   "metadata": {},
   "outputs": [
    {
     "name": "stdout",
     "output_type": "stream",
     "text": [
      "name:aastha3\n",
      "age:22\n",
      "address:india\n",
      "gread:A\n"
     ]
    }
   ],
   "source": [
    "#one more method in pairs\n",
    "\n",
    "for key,value in student.items():\n",
    "    print(f\"{key}:{value}\")"
   ]
  },
  {
   "cell_type": "code",
   "execution_count": 44,
   "id": "feb3f6f5",
   "metadata": {},
   "outputs": [
    {
     "name": "stdout",
     "output_type": "stream",
     "text": [
      "{'student1': {'name': 'aastha', 'age': 32}, 'student2': {'name': 'nitu', 'age': 35}}\n"
     ]
    }
   ],
   "source": [
    "## nested disctionries\n",
    "\n",
    "students={\n",
    "    \"student1\":{\"name\":\"aastha\",\"age\":32},\n",
    "    \"student2\":{\"name\":\"nitu\",\"age\":35}\n",
    "}\n",
    "print(students)"
   ]
  },
  {
   "cell_type": "code",
   "execution_count": 47,
   "id": "becd1d41",
   "metadata": {},
   "outputs": [
    {
     "name": "stdout",
     "output_type": "stream",
     "text": [
      "nitu\n",
      "35\n"
     ]
    }
   ],
   "source": [
    "## access method dictionaries element\n",
    "\n",
    "print(students[\"student2\"][\"name\"]),\n",
    "print(students[\"student2\"][\"age\"])"
   ]
  },
  {
   "cell_type": "code",
   "execution_count": 48,
   "id": "95e33afa",
   "metadata": {},
   "outputs": [
    {
     "data": {
      "text/plain": [
       "dict_items([('student1', {'name': 'aastha', 'age': 32}), ('student2', {'name': 'nitu', 'age': 35})])"
      ]
     },
     "execution_count": 48,
     "metadata": {},
     "output_type": "execute_result"
    }
   ],
   "source": [
    "students.items()"
   ]
  },
  {
   "cell_type": "code",
   "execution_count": 61,
   "id": "c4cd3f7e",
   "metadata": {},
   "outputs": [
    {
     "name": "stdout",
     "output_type": "stream",
     "text": [
      "student1: {'name': 'aastha', 'age': 32}\n",
      "name: aastha\n",
      "age: 32\n",
      "student2: {'name': 'nitu', 'age': 35}\n",
      "name: nitu\n",
      "age: 35\n"
     ]
    }
   ],
   "source": [
    "# iterating nested dictionaries element\n",
    "\n",
    "for student_id, student_info in students.items():\n",
    "    print(f\"{student_id}: {student_info}\")\n",
    "    for key, value in student_info.items():\n",
    "        print(f\"{key}: {value}\")\n"
   ]
  },
  {
   "cell_type": "code",
   "execution_count": 63,
   "id": "562a601e",
   "metadata": {},
   "outputs": [
    {
     "name": "stdout",
     "output_type": "stream",
     "text": [
      "{0: 0, 1: 1, 2: 4, 3: 9, 4: 16, 5: 25, 6: 36, 7: 49, 8: 64, 9: 81}\n"
     ]
    }
   ],
   "source": [
    "## dictionary compharehension\n",
    "\n",
    "squares = { x:x**2 for x in range(10)}\n",
    "\n",
    "print(squares)"
   ]
  },
  {
   "cell_type": "code",
   "execution_count": 64,
   "id": "0022b791",
   "metadata": {},
   "outputs": [
    {
     "name": "stdout",
     "output_type": "stream",
     "text": [
      "{0: 0, 2: 4, 4: 16, 6: 36, 8: 64, 10: 100}\n"
     ]
    }
   ],
   "source": [
    "## condition dictionary compharehension\n",
    "\n",
    "even = {x:x**2 for x in range(12) if x%2==0 }\n",
    "print(even)"
   ]
  },
  {
   "cell_type": "code",
   "execution_count": 68,
   "id": "bb56825d",
   "metadata": {},
   "outputs": [
    {
     "name": "stdout",
     "output_type": "stream",
     "text": [
      "{1: 1, 2: 2, 3: 3, 4: 4, 5: 1}\n"
     ]
    }
   ],
   "source": [
    "## practical example \n",
    "\n",
    "\n",
    "# use a dictionary to count he frequency of element in list\n",
    "\n",
    "numbers = [1,2,2,3,3,3,4,4,4,4,5]\n",
    "\n",
    "frequency = {}\n",
    "for number in numbers:\n",
    "    if number in frequency:\n",
    "        frequency[number]+=1\n",
    "    else:\n",
    "        frequency[number]=1\n",
    "print(frequency)"
   ]
  },
  {
   "cell_type": "code",
   "execution_count": 69,
   "id": "9829f305",
   "metadata": {},
   "outputs": [
    {
     "name": "stdout",
     "output_type": "stream",
     "text": [
      "{'a': 1, 'b': 3, 'c': 4}\n"
     ]
    }
   ],
   "source": [
    "## merge 2 dictionaries into one\n",
    "\n",
    "dist1 = {\"a\":1,\"b\":2}\n",
    "dist2 = {\"b\":3,\"c\":4}\n",
    "marge_dist = {**dist1,**dist2}\n",
    "print(marge_dist)"
   ]
  },
  {
   "cell_type": "code",
   "execution_count": null,
   "id": "18744d6e",
   "metadata": {},
   "outputs": [],
   "source": []
  }
 ],
 "metadata": {
  "kernelspec": {
   "display_name": "Python 3",
   "language": "python",
   "name": "python3"
  },
  "language_info": {
   "codemirror_mode": {
    "name": "ipython",
    "version": 3
   },
   "file_extension": ".py",
   "mimetype": "text/x-python",
   "name": "python",
   "nbconvert_exporter": "python",
   "pygments_lexer": "ipython3",
   "version": "3.13.0"
  }
 },
 "nbformat": 4,
 "nbformat_minor": 5
}
