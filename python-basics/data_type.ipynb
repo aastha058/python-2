{
 "cells": [
  {
   "cell_type": "markdown",
   "id": "06cbcb8e",
   "metadata": {},
   "source": [
    "### Data Type "
   ]
  },
  {
   "cell_type": "markdown",
   "id": "59ce2561",
   "metadata": {},
   "source": [
    "### Difinition \n",
    "\n",
    ". data type are a alassification on of data which tell the compiler or intermmreter how the programer intendr to use the data.\n",
    "\n",
    ".they determind the type of opertions they can be operations they can be performed on the data the values that the data can take and the amount of monery needed to the data ."
   ]
  },
  {
   "cell_type": "code",
   "execution_count": 1,
   "id": "47cc087b",
   "metadata": {},
   "outputs": [
    {
     "name": "stdout",
     "output_type": "stream",
     "text": [
      "<class 'int'>\n"
     ]
    }
   ],
   "source": [
    "## integer example \n",
    "\n",
    "age = 22\n",
    "print(type(age))  ## int"
   ]
  },
  {
   "cell_type": "code",
   "execution_count": 2,
   "id": "9e25669d",
   "metadata": {},
   "outputs": [
    {
     "name": "stdout",
     "output_type": "stream",
     "text": [
      "<class 'float'>\n"
     ]
    }
   ],
   "source": [
    "## float example\n",
    "\n",
    "height = 5.9\n",
    "print(type(height))  ## float"
   ]
  },
  {
   "cell_type": "code",
   "execution_count": 3,
   "id": "4e5b0660",
   "metadata": {},
   "outputs": [
    {
     "name": "stdout",
     "output_type": "stream",
     "text": [
      "<class 'str'>\n"
     ]
    }
   ],
   "source": [
    "## string example\n",
    "\n",
    "name = \"John\"\n",
    "print(type(name))  ## str"
   ]
  },
  {
   "cell_type": "code",
   "execution_count": 4,
   "id": "274c6faf",
   "metadata": {},
   "outputs": [
    {
     "name": "stdout",
     "output_type": "stream",
     "text": [
      "<class 'bool'>\n"
     ]
    }
   ],
   "source": [
    "## boolean example  \n",
    "is_student = True\n",
    "print(type(is_student))  ## bool"
   ]
  }
 ],
 "metadata": {
  "kernelspec": {
   "display_name": "Python 3",
   "language": "python",
   "name": "python3"
  },
  "language_info": {
   "codemirror_mode": {
    "name": "ipython",
    "version": 3
   },
   "file_extension": ".py",
   "mimetype": "text/x-python",
   "name": "python",
   "nbconvert_exporter": "python",
   "pygments_lexer": "ipython3",
   "version": "3.13.0"
  }
 },
 "nbformat": 4,
 "nbformat_minor": 5
}
