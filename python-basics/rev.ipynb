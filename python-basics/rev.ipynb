{
 "cells": [
  {
   "cell_type": "code",
   "execution_count": 1,
   "id": "f55c092a",
   "metadata": {},
   "outputs": [
    {
     "name": "stdout",
     "output_type": "stream",
     "text": [
      "<class 'str'>\n",
      "22\n",
      "<class 'str'>\n"
     ]
    }
   ],
   "source": [
    "## type canversion\n",
    "\n",
    "## this is a integer example  also float to string and don't change the string to integer and also boolean to integer\n",
    "\n",
    "age = \"22\"\n",
    "print(type(age))\n",
    "\n",
    "age_str = str(age)\n",
    "print(age_str)\n",
    "print(type(age_str))"
   ]
  },
  {
   "cell_type": "code",
   "execution_count": 2,
   "id": "301df169",
   "metadata": {},
   "outputs": [
    {
     "name": "stdout",
     "output_type": "stream",
     "text": [
      "<class 'float'>\n",
      "5\n"
     ]
    }
   ],
   "source": [
    " ## example of float to integer\n",
    "height = 5.9        \n",
    "print(type(height))\n",
    "height_int = int(height)\n",
    "print(height_int)   "
   ]
  },
  {
   "cell_type": "code",
   "execution_count": 5,
   "id": "5be6c4b2",
   "metadata": {},
   "outputs": [
    {
     "name": "stdout",
     "output_type": "stream",
     "text": [
      "<class 'int'>\n",
      "70.0\n",
      "<class 'float'>\n",
      "70\n"
     ]
    }
   ],
   "source": [
    "  ## example of integer to float\n",
    "weight = 70     \n",
    "print(type(weight))\n",
    "weight_float = float(weight)        \n",
    "print(weight_float)\n",
    "print(type(weight_float))\n",
    "print(weight)\n"
   ]
  },
  {
   "cell_type": "code",
   "execution_count": 8,
   "id": "4e25ba1b",
   "metadata": {},
   "outputs": [
    {
     "name": "stdout",
     "output_type": "stream",
     "text": [
      "<class 'int'>\n",
      "-7\n",
      "<class 'str'>\n",
      "-7\n"
     ]
    }
   ],
   "source": [
    "## float to string\n",
    "height = 2-9\n",
    "print(type(height))\n",
    "height_str = str(height)\n",
    "print(height_str)\n",
    "print(type(height_str))\n",
    "print(height)"
   ]
  },
  {
   "cell_type": "code",
   "execution_count": 11,
   "id": "90b7f60f",
   "metadata": {},
   "outputs": [
    {
     "name": "stdout",
     "output_type": "stream",
     "text": [
      "<class 'int'>\n",
      "True\n",
      "True\n",
      "<class 'bool'>\n"
     ]
    }
   ],
   "source": [
    "## intger to boolean\n",
    "is_student = 1\n",
    "print(type(is_student)) ## bool\n",
    "is_student_bool = bool(is_student)\n",
    "print(is_student_bool) ## True\n",
    "print(bool(is_student)) ## True \n",
    "print(type(is_student_bool)) ## bool\n",
    "\n"
   ]
  },
  {
   "cell_type": "code",
   "execution_count": 12,
   "id": "04f25266",
   "metadata": {},
   "outputs": [
    {
     "name": "stdout",
     "output_type": "stream",
     "text": [
      "Your age is: 22\n",
      "<class 'str'>\n"
     ]
    }
   ],
   "source": [
    "## input \n",
    "age = input(\"Enter your age: \")\n",
    "print(\"Your age is:\", age)\n",
    "print(type(age))  ## str    \n",
    "\n"
   ]
  },
  {
   "cell_type": "code",
   "execution_count": 38,
   "id": "1a8210df",
   "metadata": {},
   "outputs": [
    {
     "name": "stdout",
     "output_type": "stream",
     "text": [
      "29.0 ** 54.0 = 9.321630555798641e+78\n"
     ]
    }
   ],
   "source": [
    "## simple calculater\n",
    "\n",
    "num1 = float(input(\"Enter first number: \"))  \n",
    "num2 = float(input(\"Enter second number: \"))\n",
    "\n",
    "operation = input(\"Enter an operation (+, -, *, /,**,//,% ): \")  \n",
    "if operation == \"+\":\n",
    "    result = num1 + num2\n",
    "    print(f\"{num1} + {num2} = {result}\")    \n",
    "elif operation == \"-\":\n",
    "    result = num1 - num2\n",
    "    print(f\"{num1} - {num2} = {result}\")        \n",
    "elif operation == \"**\":\n",
    "    result = num1 ** num2\n",
    "    print(f\"{num1} ** {num2} = {result}\")\n",
    "elif operation == \"//\":\n",
    "    result = num1 // num2\n",
    "    print(f\"{num1} // {num2} = {result}\")\n",
    "elif operation == \"%\":\n",
    "    result = num1 % num2\n",
    "    print(f\"{num1} % {num2} = {result}\")\n",
    "elif operation == \"*\":\n",
    "    result = num1 * num2\n",
    "    print(f\"{num1} * {num2} = {result}\")\n",
    "elif operation == \"/\":\n",
    "    if num2 != 0:\n",
    "        result = num1 / num2\n",
    "        print(f\"{num1} / {num2} = {result}\")\n",
    "    else:\n",
    "        print(\"Error: Division by zero is not allowed.\")    \n",
    "\n",
    "else:\n",
    "    print(\"Invalid operation. Please enter one of +, -, *, /, //.%.\")     \n",
    "\n",
    "\n",
    "\n",
    "\n"
   ]
  },
  {
   "cell_type": "code",
   "execution_count": 31,
   "id": "04a4ed2e",
   "metadata": {},
   "outputs": [
    {
     "name": "stdout",
     "output_type": "stream",
     "text": [
      "<class 'int'>\n",
      "<class 'float'>\n",
      "<class 'str'>\n",
      "<class 'bool'>\n",
      "<class 'complex'>\n"
     ]
    }
   ],
   "source": [
    " ## data types in python manly python has 5 data types\n",
    " ## 1. integer  2. float  3. string  4. boolean  5. complex number\n",
    " ## 1. integer example\n",
    "\n",
    "age = 22\n",
    "print(type(age))  ## int\n",
    "\n",
    "# 2. float example\n",
    "height = 5.9\n",
    "print(type(height))  ## float\n",
    "\n",
    "# 3. string example\n",
    "name = \"John\"\n",
    "print(type(name))  ## str\n",
    "\n",
    "# 4. boolean example\n",
    "is_student = True\n",
    "print(type(is_student))  ## bool\n",
    "\n",
    "# 5. complex number example\n",
    "complex_num = 2 + 3j\n",
    "print(type(complex_num))  ## complex\n"
   ]
  },
  {
   "cell_type": "code",
   "execution_count": 41,
   "id": "f809f510",
   "metadata": {},
   "outputs": [
    {
     "name": "stdout",
     "output_type": "stream",
     "text": [
      "The sum of first 12 natural numbers is 78\n"
     ]
    }
   ],
   "source": [
    "# calculate the sum of first n natural numbers using while loop\n",
    "\n",
    "n = int(input(\"enter a number: \"))\n",
    "sum = 0\n",
    "count = 1\n",
    "while count <= n:\n",
    "    sum += count\n",
    "    count += 1\n",
    "print(f\"The sum of first {n} natural numbers is {sum}\")"
   ]
  },
  {
   "cell_type": "code",
   "execution_count": 51,
   "id": "97f79ed7",
   "metadata": {},
   "outputs": [
    {
     "name": "stdout",
     "output_type": "stream",
     "text": [
      "The sum of first 11 natural numbers is 66\n"
     ]
    }
   ],
   "source": [
    "# calculate the sum of first n natural numbers using for loop\n",
    "\n",
    "n = int(input(\"Enter a number: \"))\n",
    "total = 0\n",
    "for i in range(1, n + 1):\n",
    "    total += i\n",
    "print(f\"The sum of first {n} natural numbers is {total}\")\n",
    "\n"
   ]
  },
  {
   "cell_type": "code",
   "execution_count": null,
   "id": "f5185e58",
   "metadata": {},
   "outputs": [],
   "source": []
  }
 ],
 "metadata": {
  "kernelspec": {
   "display_name": "Python 3",
   "language": "python",
   "name": "python3"
  },
  "language_info": {
   "codemirror_mode": {
    "name": "ipython",
    "version": 3
   },
   "file_extension": ".py",
   "mimetype": "text/x-python",
   "name": "python",
   "nbconvert_exporter": "python",
   "pygments_lexer": "ipython3",
   "version": "3.13.0"
  }
 },
 "nbformat": 4,
 "nbformat_minor": 5
}
