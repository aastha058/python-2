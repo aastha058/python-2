{
 "cells": [
  {
   "cell_type": "markdown",
   "id": "a2030476",
   "metadata": {},
   "source": [
    "## Working with file paths"
   ]
  },
  {
   "cell_type": "code",
   "execution_count": 2,
   "id": "eb1a351e",
   "metadata": {},
   "outputs": [
    {
     "name": "stdout",
     "output_type": "stream",
     "text": [
      "current working directory is c:\\python-2\\6-file handling\n"
     ]
    }
   ],
   "source": [
    "## using one os module\n",
    "\n",
    "import os\n",
    "cwd=os.getcwd()\n",
    "print(f\"current working directory is {cwd}\")"
   ]
  },
  {
   "cell_type": "code",
   "execution_count": 3,
   "id": "9f013e02",
   "metadata": {},
   "outputs": [
    {
     "name": "stdout",
     "output_type": "stream",
     "text": [
      "directory'package'create\n"
     ]
    }
   ],
   "source": [
    "## create a new directory\n",
    "\n",
    "new_directory = \"package\"\n",
    "os.mkdir(new_directory)\n",
    "print(f\"directory'{new_directory}'create\")"
   ]
  },
  {
   "cell_type": "code",
   "execution_count": 4,
   "id": "eac6c1a4",
   "metadata": {},
   "outputs": [
    {
     "name": "stdout",
     "output_type": "stream",
     "text": [
      "['destination.txt', 'example.bin', 'example.txt', 'fileopration.ipynb', 'filepath.ipynb', 'package']\n"
     ]
    }
   ],
   "source": [
    "## listing files and directories\n",
    "\n",
    "items = os.listdir('.')\n",
    "print(items)"
   ]
  },
  {
   "cell_type": "code",
   "execution_count": 6,
   "id": "ac3f90be",
   "metadata": {},
   "outputs": [
    {
     "name": "stdout",
     "output_type": "stream",
     "text": [
      "folder\\file.txt\n"
     ]
    }
   ],
   "source": [
    "# joining paths\n",
    "dir_name=\"folder\"\n",
    "file_name=\"file.txt\"\n",
    "\n",
    "full_path=os.path.join(dir_name,file_name)\n",
    "print(full_path)"
   ]
  },
  {
   "cell_type": "code",
   "execution_count": 7,
   "id": "1a82332c",
   "metadata": {},
   "outputs": [
    {
     "name": "stdout",
     "output_type": "stream",
     "text": [
      "c:\\python-2\\6-file handling\\folder\\file.txt\n"
     ]
    }
   ],
   "source": [
    "dir_name=\"folder\"\n",
    "file_name=\"file.txt\"\n",
    "\n",
    "full_path=os.path.join(os.getcwd(), dir_name,file_name)\n",
    "print(full_path)"
   ]
  },
  {
   "cell_type": "code",
   "execution_count": 10,
   "id": "7d200ebd",
   "metadata": {},
   "outputs": [
    {
     "name": "stdout",
     "output_type": "stream",
     "text": [
      "the path 'example.txt' exists \n"
     ]
    }
   ],
   "source": [
    "path='example.txt'\n",
    "if os.path.exists(path):\n",
    "    print(f\"the path '{path}' exists \")\n",
    "else:\n",
    "    print(f\"the path '{path}' doe's not exists \")"
   ]
  },
  {
   "cell_type": "code",
   "execution_count": 11,
   "id": "f92e5d82",
   "metadata": {},
   "outputs": [
    {
     "name": "stdout",
     "output_type": "stream",
     "text": [
      "the path 'example1.txt' doe's not exists \n"
     ]
    }
   ],
   "source": [
    "path='example1.txt'\n",
    "if os.path.exists(path):\n",
    "    print(f\"the path '{path}' exists \")\n",
    "else:\n",
    "    print(f\"the path '{path}' doe's not exists \")"
   ]
  },
  {
   "cell_type": "code",
   "execution_count": null,
   "id": "43b4bb26",
   "metadata": {},
   "outputs": [
    {
     "name": "stdout",
     "output_type": "stream",
     "text": [
      "the path ' example.txt' is a file.\n"
     ]
    }
   ],
   "source": [
    "## checking a path is a fill or directory\n",
    "\n",
    "import os\n",
    "\n",
    "path = 'example.txt'\n",
    "if os.path.isfile(path):\n",
    "    print(f\"the path ' {path}' is a file.\")\n",
    "elif os.path.isdir(path):\n",
    "    print(f\"the path '{path}' is a directory. \")\n",
    "else:\n",
    "    print(f\"the path ' {path}' is neither a file not a directory.\")"
   ]
  },
  {
   "cell_type": "code",
   "execution_count": 13,
   "id": "3979ef07",
   "metadata": {},
   "outputs": [
    {
     "name": "stdout",
     "output_type": "stream",
     "text": [
      "the path ' app.py' is neither a file not a directory.\n"
     ]
    }
   ],
   "source": [
    "## checking a path is a fill or directory\n",
    "\n",
    "import os\n",
    "\n",
    "path = input('enter a path')\n",
    "if os.path.isfile(path):\n",
    "    print(f\"the path ' {path}' is a file.\")\n",
    "elif os.path.isdir(path):\n",
    "    print(f\"the path '{path}' is a directory. \")\n",
    "else:\n",
    "    print(f\"the path ' {path}' is neither a file not a directory.\")"
   ]
  },
  {
   "cell_type": "code",
   "execution_count": 14,
   "id": "dfa4e625",
   "metadata": {},
   "outputs": [
    {
     "name": "stdout",
     "output_type": "stream",
     "text": [
      "c:\\python-2\\6-file handling\\example.txt\n"
     ]
    }
   ],
   "source": [
    "## getting the absolute path\n",
    "\n",
    "relative_path='example.txt'\n",
    "absolute_path=os.path.abspath(relative_path)\n",
    "print(absolute_path)"
   ]
  },
  {
   "cell_type": "code",
   "execution_count": 16,
   "id": "deee20b2",
   "metadata": {},
   "outputs": [
    {
     "name": "stdout",
     "output_type": "stream",
     "text": [
      "The path 'ddddd.txt' does not exist.\n"
     ]
    }
   ],
   "source": [
    "#Check if Path Exists Before Checking\n",
    "\n",
    "import os\n",
    "\n",
    "path = input(\"Enter a path: \")\n",
    "\n",
    "if os.path.exists(path):\n",
    "    if os.path.isfile(path):\n",
    "        print(f\"The path '{path}' is a file.\")\n",
    "    elif os.path.isdir(path):\n",
    "        print(f\"The path '{path}' is a directory.\")\n",
    "    else:\n",
    "        print(f\"The path '{path}' exists but is neither a regular file nor a directory.\")\n",
    "else:\n",
    "    print(f\"The path '{path}' does not exist.\")\n"
   ]
  },
  {
   "cell_type": "code",
   "execution_count": 18,
   "id": "3eb3992e",
   "metadata": {},
   "outputs": [
    {
     "name": "stdout",
     "output_type": "stream",
     "text": [
      "It is a file with unknown type.\n"
     ]
    }
   ],
   "source": [
    "#Check File Type (text, image, etc.)\n",
    "import os\n",
    "\n",
    "path = input(\"Enter a file path: \")\n",
    "\n",
    "if os.path.isfile(path):\n",
    "    ext = os.path.splitext(path)[1].lower()\n",
    "    if ext in ['.txt', '.md']:\n",
    "        print(\"It is a text file.\")\n",
    "    elif ext in ['.jpg', '.png', '.gif']:\n",
    "        print(\"It is an image file.\")\n",
    "    elif ext in ['.py']:\n",
    "        print(\"It is a Python script file.\")\n",
    "    else:\n",
    "        print(\"It is a file with unknown type.\")\n",
    "else:\n",
    "    print(\"This is not a file.\")\n"
   ]
  },
  {
   "cell_type": "code",
   "execution_count": 19,
   "id": "02d1dcf6",
   "metadata": {},
   "outputs": [
    {
     "name": "stdout",
     "output_type": "stream",
     "text": [
      "'example.txt' is a file, not a directory.\n"
     ]
    }
   ],
   "source": [
    "# List Contents if It’s a Directory\n",
    "\n",
    "import os\n",
    "\n",
    "path = input(\"Enter a directory path: \")\n",
    "\n",
    "if os.path.isdir(path):\n",
    "    print(f\"Contents of directory '{path}':\")\n",
    "    for item in os.listdir(path):\n",
    "        print(\" -\", item)\n",
    "elif os.path.isfile(path):\n",
    "    print(f\"'{path}' is a file, not a directory.\")\n",
    "else:\n",
    "    print(f\"'{path}' does not exist.\")\n"
   ]
  },
  {
   "cell_type": "code",
   "execution_count": 20,
   "id": "872efd95",
   "metadata": {},
   "outputs": [
    {
     "name": "stdout",
     "output_type": "stream",
     "text": [
      "Absolute path is: c:\\python-2\\6-file handling\\example.txt\n"
     ]
    }
   ],
   "source": [
    " \n",
    "\n",
    "# Absolute Path\n",
    "\n",
    "import os\n",
    "\n",
    "path = input(\"Enter a path: \")\n",
    "\n",
    "if os.path.exists(path):\n",
    "    abs_path = os.path.abspath(path)\n",
    "    print(f\"Absolute path is: {abs_path}\")\n",
    "else:\n",
    "    print(\"The path does not exist.\")\n"
   ]
  },
  {
   "cell_type": "code",
   "execution_count": null,
   "id": "c3f4aa13",
   "metadata": {},
   "outputs": [],
   "source": []
  }
 ],
 "metadata": {
  "kernelspec": {
   "display_name": "Python 3",
   "language": "python",
   "name": "python3"
  },
  "language_info": {
   "codemirror_mode": {
    "name": "ipython",
    "version": 3
   },
   "file_extension": ".py",
   "mimetype": "text/x-python",
   "name": "python",
   "nbconvert_exporter": "python",
   "pygments_lexer": "ipython3",
   "version": "3.13.0"
  }
 },
 "nbformat": 4,
 "nbformat_minor": 5
}
