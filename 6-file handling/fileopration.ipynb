{
 "cells": [
  {
   "cell_type": "markdown",
   "id": "b7ec0d88",
   "metadata": {},
   "source": [
    "## File opration read and write file"
   ]
  },
  {
   "cell_type": "markdown",
   "id": "c866d6e9",
   "metadata": {},
   "source": [
    "### file handling is a curcial part of any program langvage .Python provides built in function and method to read from and write to file both text and binary this lesson will cover the basics of file handling incluching reading and writeing text file and binary files."
   ]
  },
  {
   "cell_type": "code",
   "execution_count": 10,
   "id": "36646298",
   "metadata": {},
   "outputs": [
    {
     "name": "stdout",
     "output_type": "stream",
     "text": [
      "Hello world!\n",
      "this is a new line\n"
     ]
    }
   ],
   "source": [
    "## read a whole file\n",
    "\n",
    "with open('example.txt','r') as file:\n",
    "    content=file.read()\n",
    "    print(content)\n"
   ]
  },
  {
   "cell_type": "code",
   "execution_count": 9,
   "id": "370bd499",
   "metadata": {},
   "outputs": [
    {
     "name": "stdout",
     "output_type": "stream",
     "text": [
      "Hello world!\n",
      "this is a new line\n"
     ]
    }
   ],
   "source": [
    "## read a file line by line \n",
    "\n",
    "with open('example.txt','r') as file:\n",
    "    for line in file:\n",
    "        print(line.strip()) ## this .strip () removes the new line character"
   ]
  },
  {
   "cell_type": "code",
   "execution_count": 16,
   "id": "96be95b2",
   "metadata": {},
   "outputs": [],
   "source": [
    "## write a file (overwriting)\n",
    "\n",
    "with open('example.txt','w') as file:\n",
    "    file.write('Hello world!\\n')\n",
    "    file.write('this is a new line')"
   ]
  },
  {
   "cell_type": "code",
   "execution_count": 17,
   "id": "c1b8580c",
   "metadata": {},
   "outputs": [],
   "source": [
    "## write a file (without overwriting )\n",
    "\n",
    "with open('example.txt','a') as file:\n",
    "    file.write(\"\\nAppend operator taking place \")\n"
   ]
  },
  {
   "cell_type": "code",
   "execution_count": 19,
   "id": "60b20da1",
   "metadata": {},
   "outputs": [],
   "source": [
    "## write a list of line to a file \n",
    "\n",
    "lines=['\\nfirst line','\\n second line','\\n third line ']\n",
    "with open('example.txt','a')as file:\n",
    "    file.writelines(lines)"
   ]
  },
  {
   "cell_type": "code",
   "execution_count": null,
   "id": "8510f609",
   "metadata": {},
   "outputs": [],
   "source": [
    "## binary files\n",
    "\n"
   ]
  }
 ],
 "metadata": {
  "kernelspec": {
   "display_name": "Python 3",
   "language": "python",
   "name": "python3"
  },
  "language_info": {
   "codemirror_mode": {
    "name": "ipython",
    "version": 3
   },
   "file_extension": ".py",
   "mimetype": "text/x-python",
   "name": "python",
   "nbconvert_exporter": "python",
   "pygments_lexer": "ipython3",
   "version": "3.13.0"
  }
 },
 "nbformat": 4,
 "nbformat_minor": 5
}
