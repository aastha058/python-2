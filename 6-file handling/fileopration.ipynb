{
 "cells": [
  {
   "cell_type": "markdown",
   "id": "b7ec0d88",
   "metadata": {},
   "source": [
    "## File opration read and write file"
   ]
  },
  {
   "cell_type": "markdown",
   "id": "c866d6e9",
   "metadata": {},
   "source": [
    "### file handling is a curcial part of any program langvage .Python provides built in function and method to read from and write to file both text and binary this lesson will cover the basics of file handling incluching reading and writeing text file and binary files."
   ]
  },
  {
   "cell_type": "code",
   "execution_count": 10,
   "id": "36646298",
   "metadata": {},
   "outputs": [
    {
     "name": "stdout",
     "output_type": "stream",
     "text": [
      "Hello world!\n",
      "this is a new line\n"
     ]
    }
   ],
   "source": [
    "## read a whole file\n",
    "\n",
    "with open('example.txt','r') as file:\n",
    "    content=file.read()\n",
    "    print(content)\n"
   ]
  },
  {
   "cell_type": "code",
   "execution_count": 9,
   "id": "370bd499",
   "metadata": {},
   "outputs": [
    {
     "name": "stdout",
     "output_type": "stream",
     "text": [
      "Hello world!\n",
      "this is a new line\n"
     ]
    }
   ],
   "source": [
    "## read a file line by line \n",
    "\n",
    "with open('example.txt','r') as file:\n",
    "    for line in file:\n",
    "        print(line.strip()) ## this .strip () removes the new line character"
   ]
  },
  {
   "cell_type": "code",
   "execution_count": 16,
   "id": "96be95b2",
   "metadata": {},
   "outputs": [],
   "source": [
    "## write a file (overwriting)\n",
    "\n",
    "with open('example.txt','w') as file:\n",
    "    file.write('Hello world!\\n')\n",
    "    file.write('this is a new line')"
   ]
  },
  {
   "cell_type": "code",
   "execution_count": 17,
   "id": "c1b8580c",
   "metadata": {},
   "outputs": [],
   "source": [
    "## write a file (without overwriting )\n",
    "\n",
    "with open('example.txt','a') as file:\n",
    "    file.write(\"\\nAppend operator taking place \")\n"
   ]
  },
  {
   "cell_type": "code",
   "execution_count": 19,
   "id": "60b20da1",
   "metadata": {},
   "outputs": [],
   "source": [
    "## write a list of line to a file \n",
    "\n",
    "lines=['\\nfirst line','\\n second line','\\n third line ']\n",
    "with open('example.txt','a')as file:\n",
    "    file.writelines(lines)"
   ]
  },
  {
   "cell_type": "code",
   "execution_count": 20,
   "id": "8510f609",
   "metadata": {},
   "outputs": [],
   "source": [
    "## binary files\n",
    "\n",
    "## write to a binary files\n",
    "\n",
    "data=b'\\x00\\x01\\x02\\x03\\x04'\n",
    "with open('example.bin','wb') as file:\n",
    "    file.write(data)\n",
    "\n"
   ]
  },
  {
   "cell_type": "code",
   "execution_count": 21,
   "id": "448ba244",
   "metadata": {},
   "outputs": [
    {
     "name": "stdout",
     "output_type": "stream",
     "text": [
      "b'\\x00\\x01\\x02\\x03\\x04'\n"
     ]
    }
   ],
   "source": [
    "## read a binary file\n",
    "\n",
    "with open('example.bin','rb') as file:\n",
    "    content=file.read()\n",
    "    print(content)"
   ]
  },
  {
   "cell_type": "code",
   "execution_count": 22,
   "id": "3468cb6d",
   "metadata": {},
   "outputs": [],
   "source": [
    "## read the content froma saurce text file and write a destination text file \n",
    "# capying a text file \n",
    "\n",
    "with open('example.txt','r') as source_file:\n",
    "    content = source_file.read()\n",
    "\n",
    "with open('destination.txt','w') as destination_file:\n",
    "    destination_file.write(content)"
   ]
  },
  {
   "cell_type": "code",
   "execution_count": 24,
   "id": "ded2c2d9",
   "metadata": {},
   "outputs": [
    {
     "name": "stdout",
     "output_type": "stream",
     "text": [
      "lines:3,words:6,characters:37\n"
     ]
    }
   ],
   "source": [
    "## Read a text file and count the number of line ,words and characters.\n",
    "\n",
    "def count_text_file(file_path):\n",
    "    with open(file_path,'r') as file:\n",
    "        line = file.readlines()\n",
    "        line_count = len(lines)\n",
    "        word_count = sum(len(line.split()) for line in lines )\n",
    "        char_count = sum(len(line) for line in lines)\n",
    "    return line_count,word_count,char_count\n",
    "\n",
    "file_path = 'example.txt'\n",
    "lines, words, characters = count_text_file(file_path)\n",
    "print(f'lines:{lines},words:{words},characters:{characters}')"
   ]
  },
  {
   "cell_type": "code",
   "execution_count": 27,
   "id": "f3476b07",
   "metadata": {},
   "outputs": [
    {
     "name": "stdout",
     "output_type": "stream",
     "text": [
      "hello world\n",
      "thid is a new line\n",
      "\n"
     ]
    }
   ],
   "source": [
    "## writing and them reading a file\n",
    "\n",
    "with open('example.txt','w+')as file:\n",
    "    file.write(\"hello world\\n\")\n",
    "    file.write(\"thid is a new line\\n\")\n",
    "\n",
    "    # move the file cursor to the beginning\n",
    "    file.seek(0)\n",
    "\n",
    "    ## read the countent of the file\n",
    "\n",
    "    content=file.read()\n",
    "    print(content)"
   ]
  },
  {
   "cell_type": "code",
   "execution_count": null,
   "id": "2f5c2eb1",
   "metadata": {},
   "outputs": [],
   "source": []
  }
 ],
 "metadata": {
  "kernelspec": {
   "display_name": "Python 3",
   "language": "python",
   "name": "python3"
  },
  "language_info": {
   "codemirror_mode": {
    "name": "ipython",
    "version": 3
   },
   "file_extension": ".py",
   "mimetype": "text/x-python",
   "name": "python",
   "nbconvert_exporter": "python",
   "pygments_lexer": "ipython3",
   "version": "3.13.0"
  }
 },
 "nbformat": 4,
 "nbformat_minor": 5
}
