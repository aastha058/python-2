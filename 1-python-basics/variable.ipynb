{
 "cells": [
  {
   "cell_type": "code",
   "execution_count": 4,
   "id": "b07ea12f",
   "metadata": {},
   "outputs": [
    {
     "name": "stdout",
     "output_type": "stream",
     "text": [
      "Fullname is: Aastha priya \n",
      "Age is: 20\n",
      "Hight is: 5.4\n"
     ]
    }
   ],
   "source": [
    "## declaring and assigning values to variables in python\n",
    "\n",
    "age = 20\n",
    "name = \"Aastha priya \"\n",
    "hight = 5.4\n",
    "\n",
    "##printing the variables\n",
    "\n",
    "print(\"Fullname is:\", name) \n",
    "print(\"Age is:\", age)\n",
    "print(\"Hight is:\", hight)\n",
    "\n",
    "\n"
   ]
  },
  {
   "cell_type": "markdown",
   "id": "c9c77384",
   "metadata": {},
   "source": [
    "### inpotent point of variables\n",
    "\n",
    ". variables name should be descriptive .\n",
    ". they must start with a letter or an number and a underscres.\n",
    ". variable naem is case sensitive.\n",
    ". valid variable name."
   ]
  },
  {
   "cell_type": "code",
   "execution_count": 5,
   "id": "330e1193",
   "metadata": {},
   "outputs": [
    {
     "name": "stdout",
     "output_type": "stream",
     "text": [
      "<class 'int'>\n",
      "<class 'str'>\n",
      "<class 'float'>\n",
      "<class 'bool'>\n"
     ]
    }
   ],
   "source": [
    "## python  is dyna .icalld, type of a variable is determined at runtime \n",
    "## understanding the type of variable\n",
    "\n",
    "age = 20  ## integer\n",
    "name = \"Aastha priya \" ## string\n",
    "hight = 5.4     ## float   \n",
    "is_student = True   ## boolean\n",
    "\n",
    "print(type(age))\n",
    "print(type(name))           \n",
    "print(type(hight))\n",
    "print(type(is_student))"
   ]
  },
  {
   "cell_type": "code",
   "execution_count": 8,
   "id": "8984d4a5",
   "metadata": {},
   "outputs": [
    {
     "data": {
      "text/plain": [
       "float"
      ]
     },
     "execution_count": 8,
     "metadata": {},
     "output_type": "execute_result"
    }
   ],
   "source": [
    "## type checking and canversion\n",
    "\n",
    "type(hight)  ## float"
   ]
  },
  {
   "cell_type": "code",
   "execution_count": 10,
   "id": "5a719b55",
   "metadata": {},
   "outputs": [
    {
     "name": "stdout",
     "output_type": "stream",
     "text": [
      "<class 'int'>\n",
      "<class 'str'>\n"
     ]
    }
   ],
   "source": [
    "age = 22\n",
    "print(type(age))  ## int\n",
    "\n",
    "age_str = str(age)\n",
    "print(type(age_str))  ## str    \n",
    "age_int = int(age_str)"
   ]
  },
  {
   "cell_type": "code",
   "execution_count": 11,
   "id": "94e8759e",
   "metadata": {},
   "outputs": [
    {
     "name": "stdout",
     "output_type": "stream",
     "text": [
      "<class 'int'>\n"
     ]
    }
   ],
   "source": [
    "age = 32\n",
    "print(type(age))  ## int"
   ]
  },
  {
   "cell_type": "code",
   "execution_count": 15,
   "id": "25cda2b1",
   "metadata": {},
   "outputs": [
    {
     "data": {
      "text/plain": [
       "float"
      ]
     },
     "execution_count": 15,
     "metadata": {},
     "output_type": "execute_result"
    }
   ],
   "source": [
    "hight = 5.4\n",
    "type(hight)  ## float"
   ]
  },
  {
   "cell_type": "code",
   "execution_count": 16,
   "id": "8fddaeb1",
   "metadata": {},
   "outputs": [
    {
     "data": {
      "text/plain": [
       "5.0"
      ]
     },
     "execution_count": 16,
     "metadata": {},
     "output_type": "execute_result"
    }
   ],
   "source": [
    "float(int(hight))  ## int to float"
   ]
  },
  {
   "cell_type": "code",
   "execution_count": null,
   "id": "068de6cb",
   "metadata": {},
   "outputs": [
    {
     "name": "stdout",
     "output_type": "stream",
     "text": [
      "5 <class 'int'>\n",
      "hello <class 'str'>\n",
      "5.6 <class 'float'>\n"
     ]
    }
   ],
   "source": [
    "## dynamic typing in python this very amazing feature of python\n",
    "\n",
    "## python allaws the type of a variable to change as the program executes.\n",
    "\n",
    "var = 5\n",
    "print(var,type(var))\n",
    "\n",
    "var = \"hello\"\n",
    "print(var,type(var))\n",
    "\n",
    "var = 5.6\n",
    "print(var,type(var))\n"
   ]
  },
  {
   "cell_type": "code",
   "execution_count": 19,
   "id": "0faa9d3c",
   "metadata": {},
   "outputs": [
    {
     "name": "stdout",
     "output_type": "stream",
     "text": [
      "your name is Aastha priya <class 'str'>\n",
      "your age is 20 <class 'str'>\n"
     ]
    }
   ],
   "source": [
    "## input \n",
    "\n",
    "name = input(\"Enter your name:\")\n",
    "age = input(\"Enter your age:\")          \n",
    "\n",
    "print(\"your name is\", name, type(name))\n",
    "print(\"your age is\", age, type(age))  ## by default input function takes input as a string"
   ]
  },
  {
   "cell_type": "code",
   "execution_count": 23,
   "id": "4a6aa270",
   "metadata": {},
   "outputs": [
    {
     "name": "stdout",
     "output_type": "stream",
     "text": [
      "Sum is: 122.0\n",
      "Difference is: -100.0\n",
      "Product is: 1221.0\n",
      "Quotient is: 0.0990990990990991\n"
     ]
    }
   ],
   "source": [
    "## simple calculator\n",
    "\n",
    "num1 = float(input(\"Enter first number:\"))\n",
    "num2 = float(input(\"Enter second number:\"))\n",
    "\n",
    "sum = num1 + num2\n",
    "difference = num1 - num2\n",
    "product = num1 * num2      \n",
    "quotient = num1 / num2\n",
    "\n",
    "print(\"Sum is:\", sum)\n",
    "print(\"Difference is:\", difference)     \n",
    "print(\"Product is:\", product)\n",
    "print(\"Quotient is:\", quotient)\n"
   ]
  },
  {
   "cell_type": "code",
   "execution_count": null,
   "id": "db9432f6",
   "metadata": {},
   "outputs": [],
   "source": []
  }
 ],
 "metadata": {
  "kernelspec": {
   "display_name": "Python 3",
   "language": "python",
   "name": "python3"
  },
  "language_info": {
   "codemirror_mode": {
    "name": "ipython",
    "version": 3
   },
   "file_extension": ".py",
   "mimetype": "text/x-python",
   "name": "python",
   "nbconvert_exporter": "python",
   "pygments_lexer": "ipython3",
   "version": "3.13.0"
  }
 },
 "nbformat": 4,
 "nbformat_minor": 5
}
