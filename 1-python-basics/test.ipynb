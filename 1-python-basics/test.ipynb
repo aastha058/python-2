{
 "cells": [
  {
   "cell_type": "markdown",
   "id": "2e216b49",
   "metadata": {},
   "source": [
    "### Syntex\n",
    "\n",
    "sentex of the set of the rules that difines the combination of the symbols are consider to be correctly in simple terms syntex is about the carrect arrangement of words and symbols in a code ."
   ]
  },
  {
   "cell_type": "markdown",
   "id": "5cd4be31",
   "metadata": {},
   "source": []
  },
  {
   "cell_type": "code",
   "execution_count": null,
   "id": "eb5e6358",
   "metadata": {},
   "outputs": [
    {
     "name": "stdout",
     "output_type": "stream",
     "text": [
      "you are eligible to vote\n",
      "43\n"
     ]
    }
   ],
   "source": [
    "age=43\n",
    "if age>18:\n",
    "    print(\"you are eligible to vote\")\n",
    "\n",
    "    print(age)\n",
    "\n",
    "    ## this is a comment and this code is example of simple variable and also a conditional statement\n",
    "\n",
    "    ## this is also indecate the indentation in python and this is very important in python as it is used to define the block of code."
   ]
  },
  {
   "cell_type": "code",
   "execution_count": 6,
   "id": "ed1453cc",
   "metadata": {},
   "outputs": [
    {
     "name": "stdout",
     "output_type": "stream",
     "text": [
      "120\n"
     ]
    }
   ],
   "source": [
    "## line continution character \\\n",
    "\n",
    "total = 1+2+3+4+5+6+7+8+9+ \\\n",
    "        10+11+12+13+14+15\n",
    "\n",
    "print(total)"
   ]
  },
  {
   "cell_type": "code",
   "execution_count": 7,
   "id": "6812d930",
   "metadata": {},
   "outputs": [
    {
     "name": "stdout",
     "output_type": "stream",
     "text": [
      "15\n"
     ]
    }
   ],
   "source": [
    "## multiple statements in one line using  this statement  use is very satanable in use cases like for loop and if else statements\n",
    "a=5; b=10; c=a+b; print(c)"
   ]
  },
  {
   "cell_type": "code",
   "execution_count": null,
   "id": "d5c4fcc2",
   "metadata": {},
   "outputs": [],
   "source": [
    " ## one line comment is used in python using # symbol and we use run the code that the commment is not executed by the interpreter\n",
    "\n",
    " print(\"hello world\")  # this is a comment and this code will print hello world on the screen\n",
    "\n",
    " ''' this is a multi line comment in python and this is used to write multiple lines of comments in python and this is very useful for documentation purpose '''\n",
    "print(\"hello world\")        \n",
    "'''"
   ]
  },
  {
   "cell_type": "code",
   "execution_count": 14,
   "id": "3a76071b",
   "metadata": {},
   "outputs": [
    {
     "name": "stdout",
     "output_type": "stream",
     "text": [
      "43\n",
      "john\n"
     ]
    }
   ],
   "source": [
    "###   variable assignment and declaration\n",
    "\n",
    "age = 43\n",
    "name = \"john\"\n",
    "\n",
    "print(age)\n",
    "print(name)"
   ]
  },
  {
   "cell_type": "code",
   "execution_count": 16,
   "id": "6dd61562",
   "metadata": {},
   "outputs": [
    {
     "data": {
      "text/plain": [
       "int"
      ]
     },
     "execution_count": 16,
     "metadata": {},
     "output_type": "execute_result"
    }
   ],
   "source": [
    "type(age)"
   ]
  },
  {
   "cell_type": "code",
   "execution_count": 17,
   "id": "f8d2ef41",
   "metadata": {},
   "outputs": [
    {
     "name": "stdout",
     "output_type": "stream",
     "text": [
      "<class 'int'>\n",
      "<class 'str'>\n"
     ]
    }
   ],
   "source": [
    "var = 10\n",
    "print(type(var))\n",
    "var = \"aastha\"\n",
    "print(type(var))"
   ]
  },
  {
   "cell_type": "code",
   "execution_count": 18,
   "id": "78ecbaa3",
   "metadata": {},
   "outputs": [
    {
     "name": "stdout",
     "output_type": "stream",
     "text": [
      "22\n"
     ]
    }
   ],
   "source": [
    "## indentation  \n",
    "age = 22\n",
    "if age>18:\n",
    "    print(age)\n",
    "    "
   ]
  },
  {
   "cell_type": "code",
   "execution_count": 19,
   "id": "0af5a849",
   "metadata": {},
   "outputs": [
    {
     "name": "stdout",
     "output_type": "stream",
     "text": [
      "your name is john and your age is 22\n"
     ]
    }
   ],
   "source": [
    "name = \"john\"\n",
    "age = 22\n",
    "if name == \"john\" and age == 22:\n",
    "    print(\"your name is john and your age is 22\")\n",
    "    "
   ]
  },
  {
   "cell_type": "code",
   "execution_count": 22,
   "id": "1e572029",
   "metadata": {},
   "outputs": [
    {
     "name": "stdout",
     "output_type": "stream",
     "text": [
      "your name is  aastha and your age is not 20\n"
     ]
    }
   ],
   "source": [
    "name = \"aastha\"\n",
    "age = 20\n",
    "if name == \"john\" or age == 22:\n",
    "    print(\"your name is john and your age is 22\")\n",
    "else:\n",
    "        print(\"your name is  aastha and your age is not 20\")\n"
   ]
  },
  {
   "cell_type": "code",
   "execution_count": 33,
   "id": "ec6a5a76",
   "metadata": {},
   "outputs": [
    {
     "name": "stdout",
     "output_type": "stream",
     "text": [
      "hello\n"
     ]
    }
   ],
   "source": [
    "if True:\n",
    "    print(\"hello\")\n",
    "    if False:\n",
    "        print(\"byee\")"
   ]
  },
  {
   "cell_type": "code",
   "execution_count": null,
   "id": "6bece0da",
   "metadata": {},
   "outputs": [],
   "source": []
  }
 ],
 "metadata": {
  "kernelspec": {
   "display_name": "Python 3",
   "language": "python",
   "name": "python3"
  },
  "language_info": {
   "codemirror_mode": {
    "name": "ipython",
    "version": 3
   },
   "file_extension": ".py",
   "mimetype": "text/x-python",
   "name": "python",
   "nbconvert_exporter": "python",
   "pygments_lexer": "ipython3",
   "version": "3.13.0"
  }
 },
 "nbformat": 4,
 "nbformat_minor": 5
}
