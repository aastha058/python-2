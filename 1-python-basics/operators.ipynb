{
 "cells": [
  {
   "cell_type": "markdown",
   "id": "fe441173",
   "metadata": {},
   "source": [
    "### Operators"
   ]
  },
  {
   "cell_type": "code",
   "execution_count": 2,
   "id": "7cd9ee4f",
   "metadata": {},
   "outputs": [
    {
     "name": "stdout",
     "output_type": "stream",
     "text": [
      "45\n",
      "21\n",
      "396\n",
      "2.75\n",
      "0\n",
      "12\n",
      "410186270246002225336426103593500672\n"
     ]
    }
   ],
   "source": [
    "## aritmatic operators\n",
    "a = 12\n",
    "b = 33\n",
    "\n",
    "## addition\n",
    "print(a+b)\n",
    "\n",
    "## subtraction\n",
    "print(b-a)  \n",
    "\n",
    "## multiplication\n",
    "print(a*b)\n",
    "\n",
    "## division\n",
    "print(b/a)\n",
    "\n",
    "## floor_div\n",
    "print(a//b)\n",
    "\n",
    "## modulus \n",
    "print(a%b)\n",
    "\n",
    "## exponent\n",
    "print(a**b)\n"
   ]
  },
  {
   "cell_type": "markdown",
   "id": "217f8ac5",
   "metadata": {},
   "source": [
    "### Floor division\n",
    "\n",
    "floor division is a also is a division aluse but floor division is remove the rasimal value and what is ancers in given to the user"
   ]
  },
  {
   "cell_type": "code",
   "execution_count": null,
   "id": "5d0c8b2b",
   "metadata": {},
   "outputs": [
    {
     "name": "stdout",
     "output_type": "stream",
     "text": [
      "True\n",
      "False\n",
      "True\n",
      "False\n"
     ]
    }
   ],
   "source": [
    "\n",
    "## comparison oprator\n",
    "\n",
    "## == equalto oprator\n",
    "\n",
    "num1 = 2\n",
    "num2 = 2\n",
    "\n",
    "print(num1==num2)\n",
    "\n",
    "## not equalto oprator\n",
    "\n",
    "print(num1!=num2)\n",
    "\n",
    "## > oprator \n",
    "\n",
    "x = 9\n",
    "y = 3\n",
    "\n",
    "print(x>y)\n",
    "\n",
    "## < oprator\n",
    "\n",
    "print(x<y)\n",
    "\n"
   ]
  },
  {
   "cell_type": "code",
   "execution_count": 7,
   "id": "70314e6c",
   "metadata": {},
   "outputs": [
    {
     "name": "stdout",
     "output_type": "stream",
     "text": [
      "True\n"
     ]
    }
   ],
   "source": [
    "\n",
    "## >= oprator\n",
    "\n",
    "number1 = 55\n",
    "number2 = 55\n",
    "\n",
    "print(number1>=number2)\n",
    "\n"
   ]
  },
  {
   "cell_type": "code",
   "execution_count": 12,
   "id": "8eb2ccca",
   "metadata": {},
   "outputs": [
    {
     "name": "stdout",
     "output_type": "stream",
     "text": [
      "False\n"
     ]
    }
   ],
   "source": [
    "## logical oprator \n",
    "\n",
    "## and , or , not\n",
    "\n",
    "w=False \n",
    "r=True\n",
    "\n",
    "result =w and r\n",
    "print(result)\n"
   ]
  },
  {
   "cell_type": "code",
   "execution_count": null,
   "id": "294ebdd3",
   "metadata": {},
   "outputs": [],
   "source": []
  }
 ],
 "metadata": {
  "kernelspec": {
   "display_name": "Python 3",
   "language": "python",
   "name": "python3"
  },
  "language_info": {
   "codemirror_mode": {
    "name": "ipython",
    "version": 3
   },
   "file_extension": ".py",
   "mimetype": "text/x-python",
   "name": "python",
   "nbconvert_exporter": "python",
   "pygments_lexer": "ipython3",
   "version": "3.13.0"
  }
 },
 "nbformat": 4,
 "nbformat_minor": 5
}
