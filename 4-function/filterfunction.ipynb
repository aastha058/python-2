{
 "cells": [
  {
   "cell_type": "markdown",
   "id": "1adcb7dd",
   "metadata": {},
   "source": [
    "## Filter function in python"
   ]
  },
  {
   "cell_type": "markdown",
   "id": "f6b9f858",
   "metadata": {},
   "source": [
    "### The filter() function constructs an iterator from element of an iterable returns true .it is use to filter out items from a list (or any other iterable) based on a condition."
   ]
  },
  {
   "cell_type": "code",
   "execution_count": 5,
   "id": "8e9827c7",
   "metadata": {},
   "outputs": [],
   "source": [
    "def even(num):\n",
    "    if num %2==0:\n",
    "       return True"
   ]
  },
  {
   "cell_type": "code",
   "execution_count": 6,
   "id": "19b14fce",
   "metadata": {},
   "outputs": [
    {
     "data": {
      "text/plain": [
       "[2, 4, 6, 8, 10, 12]"
      ]
     },
     "execution_count": 6,
     "metadata": {},
     "output_type": "execute_result"
    }
   ],
   "source": [
    "lst=[1,2,3,4,5,6,7,8,9,10,11,12]\n",
    "\n",
    "list(filter(even,lst))"
   ]
  },
  {
   "cell_type": "code",
   "execution_count": null,
   "id": "6e68b76d",
   "metadata": {},
   "outputs": [
    {
     "name": "stdout",
     "output_type": "stream",
     "text": [
      "[6, 7, 8, 9]\n"
     ]
    }
   ],
   "source": [
    "## more example of filter with lambda function\n",
    "\n",
    "numbers=[1,2,3,4,5,6,7,8,9]\n",
    "greater_than_five=list(filter(lambda x:x>5 numbers))\n",
    "print(greater_than_five)"
   ]
  },
  {
   "cell_type": "code",
   "execution_count": 15,
   "id": "212e68ae",
   "metadata": {},
   "outputs": [
    {
     "name": "stdout",
     "output_type": "stream",
     "text": [
      "[6, 8]\n"
     ]
    }
   ],
   "source": [
    "## more example \n",
    "\n",
    "numbers=[1,2,3,4,5,6,7,8,9]\n",
    "greater_than_five_even=list(filter(lambda x:x>5 and x%2==0,numbers))\n",
    "print(greater_than_five_even)"
   ]
  },
  {
   "cell_type": "code",
   "execution_count": 17,
   "id": "aeedc76a",
   "metadata": {},
   "outputs": [
    {
     "data": {
      "text/plain": [
       "[{'name': 'nitu', 'age': 41}, {'name': 'rajesh', 'age': 50}]"
      ]
     },
     "execution_count": 17,
     "metadata": {},
     "output_type": "execute_result"
    }
   ],
   "source": [
    "## more example \n",
    "people=[\n",
    "\n",
    "    {'name':'aastha','age':20},\n",
    "    {'name':'alok','age':19},\n",
    "    {'name':'nitu','age':41},\n",
    "    {'name':'rajesh','age':50}\n",
    "]\n",
    "\n",
    "def age_greater_than_25(person):\n",
    "    return person['age']>25\n",
    "\n",
    "list(filter(age_greater_than_25,people))\n"
   ]
  },
  {
   "cell_type": "code",
   "execution_count": null,
   "id": "46b46f20",
   "metadata": {},
   "outputs": [],
   "source": []
  }
 ],
 "metadata": {
  "kernelspec": {
   "display_name": "Python 3",
   "language": "python",
   "name": "python3"
  },
  "language_info": {
   "codemirror_mode": {
    "name": "ipython",
    "version": 3
   },
   "file_extension": ".py",
   "mimetype": "text/x-python",
   "name": "python",
   "nbconvert_exporter": "python",
   "pygments_lexer": "ipython3",
   "version": "3.13.0"
  }
 },
 "nbformat": 4,
 "nbformat_minor": 5
}
