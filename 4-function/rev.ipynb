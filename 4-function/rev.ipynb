{
 "cells": [
  {
   "cell_type": "markdown",
   "id": "230bdd92",
   "metadata": {},
   "source": [
    "## Revition of some example function"
   ]
  },
  {
   "cell_type": "markdown",
   "id": "df8de16f",
   "metadata": {},
   "source": [
    "### example-1 temperature conversion-"
   ]
  },
  {
   "cell_type": "code",
   "execution_count": 6,
   "id": "1d112109",
   "metadata": {},
   "outputs": [],
   "source": [
    "def convert_temperature(temp,unit):\n",
    "    \"\"\"this function convert temperature between celsius and fahranhite\"\"\"\n",
    "    if unit=='C':\n",
    "       return temp *9/5+32 #celsius into fahranhite\n",
    "    elif unit=='F':\n",
    "         return(temp-32)*5/9 #fahranhite into celsius\n",
    "    else:\n",
    "         return None\n",
    "     "
   ]
  },
  {
   "cell_type": "code",
   "execution_count": 11,
   "id": "563a7ba6",
   "metadata": {},
   "outputs": [
    {
     "name": "stdout",
     "output_type": "stream",
     "text": [
      "77.0\n",
      "25.0\n"
     ]
    }
   ],
   "source": [
    "print(convert_temperature(25,'C'))\n",
    "print(convert_temperature(77,'F'))"
   ]
  },
  {
   "cell_type": "code",
   "execution_count": 13,
   "id": "5d6db480",
   "metadata": {},
   "outputs": [
    {
     "name": "stdout",
     "output_type": "stream",
     "text": [
      "77.0\n",
      "25.0\n"
     ]
    }
   ],
   "source": [
    "## revition\n",
    "\n",
    "def tem(temp,unit):\n",
    "    \"\"\"this funtion convert the temperature \"\"\"\n",
    "    if unit=='C':\n",
    "        return temp * 9/5 +32\n",
    "    elif unit=='F':\n",
    "        return (temp-32)*5/9\n",
    "    else:\n",
    "        return None\n",
    "\n",
    "print(tem(25,'C'))\n",
    "print(tem(77,'F'))"
   ]
  },
  {
   "cell_type": "markdown",
   "id": "6ee8331a",
   "metadata": {},
   "source": [
    "### Example-2 Password strong checker"
   ]
  },
  {
   "cell_type": "code",
   "execution_count": 28,
   "id": "e57cafce",
   "metadata": {},
   "outputs": [],
   "source": [
    "def paw(password):\n",
    "    \"\"\" this function check the password is strong are not\"\"\"\n",
    "    if len(password) < 8:\n",
    "        return False\n",
    "    if not any(char.isdigit() for char in password):\n",
    "        return False\n",
    "    if not any(char.islower() for char in password): \n",
    "        return False \n",
    "    if not any(char.isupper() for char in password): \n",
    "        return False \n",
    "    if not any(char in '!@#$%^&*()?' for char in password): \n",
    "        return False \n",
    "    return True\n",
    "     "
   ]
  },
  {
   "cell_type": "code",
   "execution_count": 29,
   "id": "22b78ade",
   "metadata": {},
   "outputs": [
    {
     "name": "stdout",
     "output_type": "stream",
     "text": [
      "False\n",
      "False\n",
      "True\n"
     ]
    }
   ],
   "source": [
    "print(paw(\"Rvjdhgjhc\"))   # False (no special char, no digit)\n",
    "print(paw(\"Aasthapriy@\")) # False (no digit)\n",
    "print(paw(\"Aastha123@\"))"
   ]
  },
  {
   "cell_type": "code",
   "execution_count": 44,
   "id": "05f92fa5",
   "metadata": {},
   "outputs": [],
   "source": [
    "## revtion \n",
    "\n",
    "def cha(password):\n",
    "    \"\"\"this is a function\"\"\"\n",
    "    if len(password) < 8:\n",
    "        return False\n",
    "    if not any(char.isdigit() for char in password):\n",
    "        return False\n",
    "    if not any(char.isupper() for char in password):\n",
    "        return False\n",
    "    if not any(char.islower() for char in password):\n",
    "        return False\n",
    "    if not any(char in '!@#$%^&*()?' for char in password): \n",
    "        return False\n",
    "    return True"
   ]
  },
  {
   "cell_type": "code",
   "execution_count": 47,
   "id": "426a9f39",
   "metadata": {},
   "outputs": [
    {
     "name": "stdout",
     "output_type": "stream",
     "text": [
      "True\n",
      "True\n"
     ]
    }
   ],
   "source": [
    "print(cha(\"Aastha123@\"))\n",
    "print(cha(\"Alokraj12@\"))\n"
   ]
  },
  {
   "cell_type": "markdown",
   "id": "ea416916",
   "metadata": {},
   "source": [
    "### Example-3 calculate the total cost of item in a shopping cart."
   ]
  },
  {
   "cell_type": "code",
   "execution_count": 61,
   "id": "10a94e38",
   "metadata": {},
   "outputs": [],
   "source": [
    "def calculat_total_cost(cart):\n",
    "    total_cost = 0\n",
    "    for item in cart:\n",
    "        total_cost = item['price']*item['quantity']\n",
    "    return total_cost\n",
    "\n",
    "        "
   ]
  },
  {
   "cell_type": "code",
   "execution_count": 55,
   "id": "06e11992",
   "metadata": {},
   "outputs": [],
   "source": [
    "cart=[\n",
    "    {'name':'apple','price':0.5,'quantity':4},\n",
    "    {'name':'banana','price':0.5,'quantity':2},\n",
    "    {'name':'mange','price':0.6,'quantity':6},\n",
    "]"
   ]
  },
  {
   "cell_type": "code",
   "execution_count": 62,
   "id": "a0301f1e",
   "metadata": {},
   "outputs": [
    {
     "name": "stdout",
     "output_type": "stream",
     "text": [
      "3.5999999999999996\n"
     ]
    }
   ],
   "source": [
    "total_cost=calculat_total_cost(cart)\n",
    "print(total_cost)"
   ]
  },
  {
   "cell_type": "markdown",
   "id": "94694912",
   "metadata": {},
   "source": [
    "## Example-4 chack it is palindrome and not"
   ]
  },
  {
   "cell_type": "code",
   "execution_count": 80,
   "id": "507e0a7d",
   "metadata": {},
   "outputs": [],
   "source": [
    "def is_pal(s):\n",
    "    s=s.lower().replace(\" \",\"\")\n",
    "    return s==s[::-1]"
   ]
  },
  {
   "cell_type": "code",
   "execution_count": 81,
   "id": "c2ae3412",
   "metadata": {},
   "outputs": [
    {
     "name": "stdout",
     "output_type": "stream",
     "text": [
      "True\n",
      "False\n",
      "True\n"
     ]
    }
   ],
   "source": [
    "print(is_pal(\"Madam in Eden Im Adam\"))\n",
    "print(is_pal(\"Eva, can I see bees in a cave?\"))\n",
    "print(is_pal(\"a man a plan a canal panama\"))"
   ]
  },
  {
   "cell_type": "code",
   "execution_count": 82,
   "id": "600b16be",
   "metadata": {},
   "outputs": [
    {
     "name": "stdout",
     "output_type": "stream",
     "text": [
      "'Never odd or even' -> Palindrome? True\n",
      "'A man, a plan, a canal, Panama' -> Palindrome? True\n",
      "'Madam, in Eden, I'm Adam' -> Palindrome? True\n",
      "'Was it a car or a cat I saw?' -> Palindrome? True\n",
      "'No lemon, no melon' -> Palindrome? True\n",
      "'Step on no pets' -> Palindrome? True\n",
      "'Do geese see God?' -> Palindrome? True\n",
      "'Able was I ere I saw Elba' -> Palindrome? True\n"
     ]
    }
   ],
   "source": [
    "def is_palindrome(sentence):\n",
    "    # remove spaces and punctuation, convert to lowercase\n",
    "    clean = ''.join(char.lower() for char in sentence if char.isalnum())\n",
    "    return clean == clean[::-1]\n",
    "\n",
    "# list of palindrome sentences\n",
    "sentences = [\n",
    "    \"Never odd or even\",\n",
    "    \"A man, a plan, a canal, Panama\",\n",
    "    \"Madam, in Eden, I'm Adam\",\n",
    "    \"Was it a car or a cat I saw?\",\n",
    "    \"No lemon, no melon\",\n",
    "    \"Step on no pets\",\n",
    "    \"Do geese see God?\",\n",
    "    \"Able was I ere I saw Elba\"\n",
    "]\n",
    "\n",
    "# check each sentence\n",
    "for s in sentences:\n",
    "    print(f\"'{s}' -> Palindrome? {is_palindrome(s)}\")\n"
   ]
  },
  {
   "cell_type": "markdown",
   "id": "6a627070",
   "metadata": {},
   "source": [
    "\n",
    "### Example-5 calculate the factorials of a number using recursion "
   ]
  },
  {
   "cell_type": "code",
   "execution_count": 83,
   "id": "c380e501",
   "metadata": {},
   "outputs": [
    {
     "name": "stdout",
     "output_type": "stream",
     "text": [
      "720\n"
     ]
    }
   ],
   "source": [
    "def factorial(n):\n",
    "    if n==0:\n",
    "        return 1\n",
    "    else:\n",
    "        return n* factorial(n-1)\n",
    "\n",
    "print(factorial(6))"
   ]
  },
  {
   "cell_type": "markdown",
   "id": "26585785",
   "metadata": {},
   "source": [
    "### Chack the email is strong and not"
   ]
  },
  {
   "cell_type": "code",
   "execution_count": 85,
   "id": "37ec34bf",
   "metadata": {},
   "outputs": [
    {
     "name": "stdout",
     "output_type": "stream",
     "text": [
      "False\n",
      "True\n"
     ]
    }
   ],
   "source": [
    "import re\n",
    "\n",
    "def val_email(email):\n",
    "    \"\"\"This function checks if the EMAIL is valid or not\"\"\"\n",
    "    pattern = r'^[a-zA-Z0-9_.+-]+@[a-zA-Z0-9-]+\\.[a-zA-Z0-9-.]+$'\n",
    "    return re.match(pattern,email) is not None\n",
    "\n",
    "print(val_email(\"Rvjdhgjhc\"))\n",
    "print(val_email(\"aasthapriya@email.com\")) "
   ]
  },
  {
   "cell_type": "code",
   "execution_count": null,
   "id": "10262d85",
   "metadata": {},
   "outputs": [],
   "source": []
  }
 ],
 "metadata": {
  "kernelspec": {
   "display_name": "Python 3",
   "language": "python",
   "name": "python3"
  },
  "language_info": {
   "codemirror_mode": {
    "name": "ipython",
    "version": 3
   },
   "file_extension": ".py",
   "mimetype": "text/x-python",
   "name": "python",
   "nbconvert_exporter": "python",
   "pygments_lexer": "ipython3",
   "version": "3.13.0"
  }
 },
 "nbformat": 4,
 "nbformat_minor": 5
}
