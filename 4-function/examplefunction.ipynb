{
 "cells": [
  {
   "cell_type": "markdown",
   "id": "e6094ab7",
   "metadata": {},
   "source": [
    "## function example"
   ]
  },
  {
   "cell_type": "markdown",
   "id": "f4ff8001",
   "metadata": {},
   "source": [
    "### Example-1 Temperature conversion"
   ]
  },
  {
   "cell_type": "code",
   "execution_count": 4,
   "id": "38b65a26",
   "metadata": {},
   "outputs": [],
   "source": [
    "def convert_temperature(temp,unit):\n",
    "    \"\"\" this function converts temperature between calsicd and fahranhiet\"\"\"\n",
    "    if unit=='C':\n",
    "        return temp * 9/5 + 32 # calsicd to fahranhiet\n",
    "    elif unit=='F':\n",
    "        return (temp-32)*5/9 #fahranhiet to calsicd\n",
    "    else:\n",
    "        return None\n",
    "\n",
    "  "
   ]
  },
  {
   "cell_type": "code",
   "execution_count": 8,
   "id": "87e4aa32",
   "metadata": {},
   "outputs": [
    {
     "name": "stdout",
     "output_type": "stream",
     "text": [
      "77.0\n",
      "25.0\n",
      "40.0\n"
     ]
    }
   ],
   "source": [
    "  print(convert_temperature(25,'C'))\n",
    "  print(convert_temperature(77,'F'))\n",
    "  print(convert_temperature(104,'F'))"
   ]
  },
  {
   "cell_type": "markdown",
   "id": "e4ec3208",
   "metadata": {},
   "source": [
    "### Example-2 Password strength checker"
   ]
  },
  {
   "cell_type": "code",
   "execution_count": 15,
   "id": "898b0822",
   "metadata": {},
   "outputs": [
    {
     "name": "stdout",
     "output_type": "stream",
     "text": [
      "False\n",
      "False\n",
      "True\n"
     ]
    }
   ],
   "source": [
    "\n",
    "def str_password(password):\n",
    "    \"\"\"This function checks if the password is strong or not\"\"\"\n",
    "    if len(password) < 8:\n",
    "        return False\n",
    "    if not any(char.isdigit() for char in password):\n",
    "        return False\n",
    "    if not any(char.islower() for char in password): \n",
    "        return False \n",
    "    if not any(char.isupper() for char in password): \n",
    "        return False \n",
    "    if not any(char in '!@#$%^&*()?' for char in password): \n",
    "        return False \n",
    "    return True\n",
    "\n",
    "print(str_password(\"Rvjdhgjhc\"))   # False (no special char, no digit)\n",
    "print(str_password(\"Aasthapriy@\")) # False (no digit)\n",
    "print(str_password(\"Aastha123@\"))  # True\n"
   ]
  },
  {
   "cell_type": "markdown",
   "id": "33876143",
   "metadata": {},
   "source": [
    "### Example-3 calculate the total cost of item in a shupping cart."
   ]
  },
  {
   "cell_type": "code",
   "execution_count": 16,
   "id": "79292ce7",
   "metadata": {},
   "outputs": [],
   "source": [
    "def calculat_total_cost(cart):\n",
    "    total_cast = 0\n",
    "    for item in cart:\n",
    "        total_cost= item['price']* item['quantity']\n",
    "    return total_cost\n",
    "    "
   ]
  },
  {
   "cell_type": "code",
   "execution_count": 17,
   "id": "d57cdcde",
   "metadata": {},
   "outputs": [
    {
     "name": "stdout",
     "output_type": "stream",
     "text": [
      "3.5999999999999996\n"
     ]
    }
   ],
   "source": [
    "cart=[\n",
    "    {'name':'apple','price':0.5,'quantity':4},\n",
    "    {'name':'banana','price':0.5,'quantity':2},\n",
    "    {'name':'mange','price':0.6,'quantity':6},\n",
    "]\n",
    "\n",
    "#calling \n",
    "\n",
    "total_cost=calculat_total_cost(cart)\n",
    "print(total_cost)"
   ]
  },
  {
   "cell_type": "markdown",
   "id": "dc22495b",
   "metadata": {},
   "source": [
    "### example-4 chack if a string is palindrome ."
   ]
  },
  {
   "cell_type": "code",
   "execution_count": 20,
   "id": "d1995dc2",
   "metadata": {},
   "outputs": [],
   "source": [
    "def is_palidrome(s):\n",
    "    s=s.lower().replace(\" \",\"\")\n",
    "    return s==s[::-1]\n",
    "\n",
    "    "
   ]
  },
  {
   "cell_type": "code",
   "execution_count": 23,
   "id": "581bb941",
   "metadata": {},
   "outputs": [
    {
     "name": "stdout",
     "output_type": "stream",
     "text": [
      "True\n",
      "False\n"
     ]
    }
   ],
   "source": [
    "print(is_palidrome(\"a man a plan a canal panama\"))\n",
    "print(is_palidrome(\"hello aastha\"))"
   ]
  },
  {
   "cell_type": "markdown",
   "id": "e2969423",
   "metadata": {},
   "source": [
    "### Example-5 calculate the factorials of a number using recursion \n"
   ]
  },
  {
   "cell_type": "code",
   "execution_count": 24,
   "id": "6330ca19",
   "metadata": {},
   "outputs": [
    {
     "name": "stdout",
     "output_type": "stream",
     "text": [
      "720\n"
     ]
    }
   ],
   "source": [
    "def factorial(n):\n",
    "    if n==0:\n",
    "        return 1\n",
    "    else:\n",
    "        return n* factorial(n-1)\n",
    "\n",
    "print(factorial(6))"
   ]
  },
  {
   "cell_type": "markdown",
   "id": "519a0294",
   "metadata": {},
   "source": [
    "### Example-6 function to read a file and count the frequency of each word"
   ]
  },
  {
   "cell_type": "code",
   "execution_count": 25,
   "id": "dcba5813",
   "metadata": {},
   "outputs": [
    {
     "name": "stdout",
     "output_type": "stream",
     "text": [
      "{'hello': 1, 'aastha': 1, 'how': 2, 'are': 2, 'you': 2, 'i': 1, 'am': 1, 'fine': 1}\n"
     ]
    }
   ],
   "source": [
    "def count_word_frequency(file_path):\n",
    "    word_count={}\n",
    "    with open(file_path,'r')as file:\n",
    "        for line in file:\n",
    "            words=line.split()\n",
    "            for word in words:\n",
    "                word=word.lower().strip('.,!?:;\"\\'')\n",
    "                word_count[word]=word_count.get(word,0)+1\n",
    "    return word_count\n",
    "\n",
    "filepath='sample.txt'\n",
    "word_frequency=count_word_frequency(filepath)\n",
    "print(word_frequency)"
   ]
  },
  {
   "cell_type": "markdown",
   "id": "528e6cf5",
   "metadata": {},
   "source": [
    "### Example-7 Validate email address"
   ]
  },
  {
   "cell_type": "code",
   "execution_count": null,
   "id": "3a81c7e0",
   "metadata": {},
   "outputs": [
    {
     "name": "stdout",
     "output_type": "stream",
     "text": [
      "False\n",
      "True\n"
     ]
    }
   ],
   "source": [
    "import re\n",
    "\n",
    "def is_valid_email(email):\n",
    "    \"\"\"This function checks if the EMAIL is valid or not\"\"\"\n",
    "    pattern = r'^[a-zA-Z0-9_.+-]+@[a-zA-Z0-9-]+\\.[a-zA-Z0-9-.]+$'\n",
    "    return re.match(pattern,email) is not None\n",
    "\n",
    "print(is_valid_email(\"Rvjdhgjhc\"))\n",
    "print(is_valid_email(\"aasthapriya@email.com\")) \n",
    "\n"
   ]
  },
  {
   "cell_type": "code",
   "execution_count": null,
   "id": "a57efaaa",
   "metadata": {},
   "outputs": [],
   "source": []
  }
 ],
 "metadata": {
  "kernelspec": {
   "display_name": "Python 3",
   "language": "python",
   "name": "python3"
  },
  "language_info": {
   "codemirror_mode": {
    "name": "ipython",
    "version": 3
   },
   "file_extension": ".py",
   "mimetype": "text/x-python",
   "name": "python",
   "nbconvert_exporter": "python",
   "pygments_lexer": "ipython3",
   "version": "3.13.0"
  }
 },
 "nbformat": 4,
 "nbformat_minor": 5
}
