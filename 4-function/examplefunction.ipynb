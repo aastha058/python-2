{
 "cells": [
  {
   "cell_type": "markdown",
   "id": "e6094ab7",
   "metadata": {},
   "source": [
    "## function example"
   ]
  },
  {
   "cell_type": "markdown",
   "id": "f4ff8001",
   "metadata": {},
   "source": [
    "### Example-1 Temperature conversion"
   ]
  },
  {
   "cell_type": "code",
   "execution_count": 4,
   "id": "38b65a26",
   "metadata": {},
   "outputs": [],
   "source": [
    "def convert_temperature(temp,unit):\n",
    "    \"\"\" this function converts temperature between calsicd and fahranhiet\"\"\"\n",
    "    if unit=='C':\n",
    "        return temp * 9/5 + 32 # calsicd to fahranhiet\n",
    "    elif unit=='F':\n",
    "        return (temp-32)*5/9 #fahranhiet to calsicd\n",
    "    else:\n",
    "        return None\n",
    "\n",
    "  "
   ]
  },
  {
   "cell_type": "code",
   "execution_count": 8,
   "id": "87e4aa32",
   "metadata": {},
   "outputs": [
    {
     "name": "stdout",
     "output_type": "stream",
     "text": [
      "77.0\n",
      "25.0\n",
      "40.0\n"
     ]
    }
   ],
   "source": [
    "  print(convert_temperature(25,'C'))\n",
    "  print(convert_temperature(77,'F'))\n",
    "  print(convert_temperature(104,'F'))"
   ]
  },
  {
   "cell_type": "markdown",
   "id": "e4ec3208",
   "metadata": {},
   "source": [
    "### Example-2 Password strength checker"
   ]
  },
  {
   "cell_type": "code",
   "execution_count": 15,
   "id": "898b0822",
   "metadata": {},
   "outputs": [
    {
     "name": "stdout",
     "output_type": "stream",
     "text": [
      "False\n",
      "False\n",
      "True\n"
     ]
    }
   ],
   "source": [
    "\n",
    "def str_password(password):\n",
    "    \"\"\"This function checks if the password is strong or not\"\"\"\n",
    "    if len(password) < 8:\n",
    "        return False\n",
    "    if not any(char.isdigit() for char in password):\n",
    "        return False\n",
    "    if not any(char.islower() for char in password): \n",
    "        return False \n",
    "    if not any(char.isupper() for char in password): \n",
    "        return False \n",
    "    if not any(char in '!@#$%^&*()?' for char in password): \n",
    "        return False \n",
    "    return True\n",
    "\n",
    "print(str_password(\"Rvjdhgjhc\"))   # False (no special char, no digit)\n",
    "print(str_password(\"Aasthapriy@\")) # False (no digit)\n",
    "print(str_password(\"Aastha123@\"))  # True\n"
   ]
  },
  {
   "cell_type": "code",
   "execution_count": null,
   "id": "a593ac6c",
   "metadata": {},
   "outputs": [],
   "source": []
  }
 ],
 "metadata": {
  "kernelspec": {
   "display_name": "Python 3",
   "language": "python",
   "name": "python3"
  },
  "language_info": {
   "codemirror_mode": {
    "name": "ipython",
    "version": 3
   },
   "file_extension": ".py",
   "mimetype": "text/x-python",
   "name": "python",
   "nbconvert_exporter": "python",
   "pygments_lexer": "ipython3",
   "version": "3.13.0"
  }
 },
 "nbformat": 4,
 "nbformat_minor": 5
}
