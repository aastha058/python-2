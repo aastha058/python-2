{
 "cells": [
  {
   "cell_type": "markdown",
   "id": "9d667c44",
   "metadata": {},
   "source": [
    "## The map function in Python."
   ]
  },
  {
   "cell_type": "markdown",
   "id": "50c1256d",
   "metadata": {},
   "source": [
    "####  The map() function oppliesa given function to all item in an input list (or any other iterable) and returns a map object (an iterator). This is particularly useful for tromsforming data in a list comprehensively."
   ]
  },
  {
   "cell_type": "code",
   "execution_count": 3,
   "id": "e2c30391",
   "metadata": {},
   "outputs": [
    {
     "data": {
      "text/plain": [
       "4"
      ]
     },
     "execution_count": 3,
     "metadata": {},
     "output_type": "execute_result"
    }
   ],
   "source": [
    "def squ(x):\n",
    "    return x*x\n",
    "\n",
    "squ(2)"
   ]
  },
  {
   "cell_type": "code",
   "execution_count": 4,
   "id": "a9b2985d",
   "metadata": {},
   "outputs": [
    {
     "data": {
      "text/plain": [
       "[1, 4, 9, 16, 25, 36, 49, 64]"
      ]
     },
     "execution_count": 4,
     "metadata": {},
     "output_type": "execute_result"
    }
   ],
   "source": [
    "## then we use map() function \n",
    "\n",
    "numbers=[1,2,3,4,5,6,7,8]\n",
    "\n",
    "list(map(squ,numbers))"
   ]
  },
  {
   "cell_type": "code",
   "execution_count": 7,
   "id": "95a1ad74",
   "metadata": {},
   "outputs": [
    {
     "data": {
      "text/plain": [
       "[1, 4, 9, 16, 25, 36, 49, 64, 81]"
      ]
     },
     "execution_count": 7,
     "metadata": {},
     "output_type": "execute_result"
    }
   ],
   "source": [
    "## use of lambda function with map() function\n",
    "\n",
    "number=[1,2,3,4,5,6,7,8,9]\n",
    "\n",
    "list(map(lambda x:x*x,number))"
   ]
  },
  {
   "cell_type": "code",
   "execution_count": 8,
   "id": "e2995ae3",
   "metadata": {},
   "outputs": [
    {
     "name": "stdout",
     "output_type": "stream",
     "text": [
      "[6, 8, 10, 12]\n",
      "<class 'list'>\n"
     ]
    }
   ],
   "source": [
    "##  map multiple iterables-\n",
    "\n",
    "numbers1=[1,2,3,4]\n",
    "numbers2=[5,6,7,8]\n",
    "\n",
    "add= numbers=list(map(lambda x,y:x+y,numbers1,numbers2))\n",
    "\n",
    "print(add)\n",
    "print(type(add))"
   ]
  },
  {
   "cell_type": "code",
   "execution_count": 9,
   "id": "0a6b42ed",
   "metadata": {},
   "outputs": [
    {
     "name": "stdout",
     "output_type": "stream",
     "text": [
      "[1, 2, 3, 4, 5]\n",
      "<class 'list'>\n"
     ]
    }
   ],
   "source": [
    "## map() to convert a list of string to integers-\n",
    "\n",
    "str_numbers=['1','2','3','4','5']\n",
    "\n",
    "int_numbers = list(map(int,str_numbers))\n",
    "\n",
    "print(int_numbers)\n",
    "print(type(int_numbers))"
   ]
  },
  {
   "cell_type": "code",
   "execution_count": 11,
   "id": "239c84b2",
   "metadata": {},
   "outputs": [
    {
     "name": "stdout",
     "output_type": "stream",
     "text": [
      "['APPLE', 'BANANA', 'GRAPES']\n"
     ]
    }
   ],
   "source": [
    "## some more example \n",
    "\n",
    "words = ['apple','banana','grapes']\n",
    "upper_word=list(map(str.upper,words))\n",
    "print(upper_word)"
   ]
  },
  {
   "cell_type": "code",
   "execution_count": 12,
   "id": "2bfc34cc",
   "metadata": {},
   "outputs": [
    {
     "name": "stdout",
     "output_type": "stream",
     "text": [
      "['apple', 'banana', 'orange']\n"
     ]
    }
   ],
   "source": [
    " word = ['APPLE','BANANA','ORANGE']\n",
    " lower_word=list(map(str.lower,word))\n",
    " print(lower_word)"
   ]
  },
  {
   "cell_type": "code",
   "execution_count": 15,
   "id": "b9745f7d",
   "metadata": {},
   "outputs": [
    {
     "data": {
      "text/plain": [
       "['aastha', 'alok']"
      ]
     },
     "execution_count": 15,
     "metadata": {},
     "output_type": "execute_result"
    }
   ],
   "source": [
    "## some more example\n",
    "\n",
    "def get_name(person):\n",
    "    return person['name']\n",
    "\n",
    "people=[\n",
    "\n",
    "    {'name':'aastha','age':20},\n",
    "    {'name':'alok','age':19}\n",
    "]\n",
    "list(map(get_name,people))"
   ]
  },
  {
   "cell_type": "code",
   "execution_count": null,
   "id": "10584c25",
   "metadata": {},
   "outputs": [],
   "source": []
  }
 ],
 "metadata": {
  "kernelspec": {
   "display_name": "Python 3",
   "language": "python",
   "name": "python3"
  },
  "language_info": {
   "codemirror_mode": {
    "name": "ipython",
    "version": 3
   },
   "file_extension": ".py",
   "mimetype": "text/x-python",
   "name": "python",
   "nbconvert_exporter": "python",
   "pygments_lexer": "ipython3",
   "version": "3.13.0"
  }
 },
 "nbformat": 4,
 "nbformat_minor": 5
}
