{
 "cells": [
  {
   "cell_type": "markdown",
   "id": "1cd1393f",
   "metadata": {},
   "source": [
    "### Function "
   ]
  },
  {
   "cell_type": "markdown",
   "id": "3198aea1",
   "metadata": {},
   "source": [
    "#### A function is a block of code that performs a specific task function help i oranizing code reusing  code and inproving readability"
   ]
  },
  {
   "cell_type": "code",
   "execution_count": 1,
   "id": "057500ac",
   "metadata": {},
   "outputs": [],
   "source": [
    "# Sentex\n",
    "\n",
    "\n",
    "def function_name(parameters):\n",
    "    \"\"\"docstring\"\"\"\n",
    "    #function body\n",
    "\n",
    "    return expression"
   ]
  },
  {
   "cell_type": "code",
   "execution_count": 2,
   "id": "663dfffd",
   "metadata": {},
   "outputs": [
    {
     "name": "stdout",
     "output_type": "stream",
     "text": [
      "the number is odd\n"
     ]
    }
   ],
   "source": [
    "# why function \n",
    "\n",
    "num = 23\n",
    "if num%2==0:\n",
    "    print(\"the number is even\")\n",
    "else:\n",
    "    print(\"the number is odd\")\n",
    "    "
   ]
  },
  {
   "cell_type": "code",
   "execution_count": 6,
   "id": "236234cf",
   "metadata": {},
   "outputs": [],
   "source": [
    "# then function \n",
    "\n",
    "def even_or_odd(num):\n",
    "    \"\"\"this function finds even or odd\"\"\"\n",
    "\n",
    "    if num%2==0:\n",
    "        print(\"this is even number\")\n",
    "    else:\n",
    "        print(\"this number is odd\")"
   ]
  },
  {
   "cell_type": "code",
   "execution_count": 7,
   "id": "d31264ee",
   "metadata": {},
   "outputs": [
    {
     "name": "stdout",
     "output_type": "stream",
     "text": [
      "this is even number\n"
     ]
    }
   ],
   "source": [
    "## call the function\n",
    "even_or_odd(22)"
   ]
  },
  {
   "cell_type": "code",
   "execution_count": 17,
   "id": "c2b82675",
   "metadata": {},
   "outputs": [
    {
     "name": "stdout",
     "output_type": "stream",
     "text": [
      "8\n"
     ]
    }
   ],
   "source": [
    "## function with multiple parmeters\n",
    "\n",
    "def add(a, b):\n",
    "    return a + b\n",
    "\n",
    "result = add(2, 6)\n",
    "print(result)\n"
   ]
  },
  {
   "cell_type": "code",
   "execution_count": null,
   "id": "e941c628",
   "metadata": {},
   "outputs": [],
   "source": [
    "## default parameter\n",
    "\n"
   ]
  }
 ],
 "metadata": {
  "kernelspec": {
   "display_name": "Python 3",
   "language": "python",
   "name": "python3"
  },
  "language_info": {
   "codemirror_mode": {
    "name": "ipython",
    "version": 3
   },
   "file_extension": ".py",
   "mimetype": "text/x-python",
   "name": "python",
   "nbconvert_exporter": "python",
   "pygments_lexer": "ipython3",
   "version": "3.13.0"
  }
 },
 "nbformat": 4,
 "nbformat_minor": 5
}
