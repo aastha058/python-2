{
 "cells": [
  {
   "cell_type": "markdown",
   "id": "1cd1393f",
   "metadata": {},
   "source": [
    "### Function "
   ]
  },
  {
   "cell_type": "markdown",
   "id": "3198aea1",
   "metadata": {},
   "source": [
    "#### A function is a block of code that performs a specific task function help i oranizing code reusing  code and inproving readability"
   ]
  },
  {
   "cell_type": "code",
   "execution_count": 1,
   "id": "057500ac",
   "metadata": {},
   "outputs": [],
   "source": [
    "# Sentex\n",
    "\n",
    "\n",
    "def function_name(parameters):\n",
    "    \"\"\"docstring\"\"\"\n",
    "    #function body\n",
    "\n",
    "    return expression"
   ]
  },
  {
   "cell_type": "code",
   "execution_count": 2,
   "id": "663dfffd",
   "metadata": {},
   "outputs": [
    {
     "name": "stdout",
     "output_type": "stream",
     "text": [
      "the number is odd\n"
     ]
    }
   ],
   "source": [
    "# why function \n",
    "\n",
    "num = 23\n",
    "if num%2==0:\n",
    "    print(\"the number is even\")\n",
    "else:\n",
    "    print(\"the number is odd\")\n",
    "    "
   ]
  },
  {
   "cell_type": "code",
   "execution_count": 6,
   "id": "236234cf",
   "metadata": {},
   "outputs": [],
   "source": [
    "# then function \n",
    "\n",
    "def even_or_odd(num):\n",
    "    \"\"\"this function finds even or odd\"\"\"\n",
    "\n",
    "    if num%2==0:\n",
    "        print(\"this is even number\")\n",
    "    else:\n",
    "        print(\"this number is odd\")"
   ]
  },
  {
   "cell_type": "code",
   "execution_count": 7,
   "id": "d31264ee",
   "metadata": {},
   "outputs": [
    {
     "name": "stdout",
     "output_type": "stream",
     "text": [
      "this is even number\n"
     ]
    }
   ],
   "source": [
    "## call the function\n",
    "even_or_odd(22)"
   ]
  },
  {
   "cell_type": "code",
   "execution_count": 17,
   "id": "c2b82675",
   "metadata": {},
   "outputs": [
    {
     "name": "stdout",
     "output_type": "stream",
     "text": [
      "8\n"
     ]
    }
   ],
   "source": [
    "## function with multiple parmeters\n",
    "\n",
    "def add(a, b):\n",
    "    return a + b\n",
    "\n",
    "result = add(2, 6)\n",
    "print(result)\n"
   ]
  },
  {
   "cell_type": "code",
   "execution_count": 35,
   "id": "e941c628",
   "metadata": {},
   "outputs": [
    {
     "name": "stdout",
     "output_type": "stream",
     "text": [
      "hello aastha welcome to the paradise\n"
     ]
    }
   ],
   "source": [
    "## default parameter\n",
    "\n",
    "def greet(name):\n",
    "    print(f\"hello {name} welcome to the paradise\")\n",
    "\n",
    "greet(\"aastha\")"
   ]
  },
  {
   "cell_type": "code",
   "execution_count": 36,
   "id": "469be760",
   "metadata": {},
   "outputs": [
    {
     "name": "stdout",
     "output_type": "stream",
     "text": [
      "hello guest welcome to the paradise\n"
     ]
    }
   ],
   "source": [
    "def greet(name = \"guest\"):\n",
    "    print(f\"hello {name} welcome to the paradise\")\n",
    "\n",
    "greet()"
   ]
  },
  {
   "cell_type": "code",
   "execution_count": 44,
   "id": "e0748e44",
   "metadata": {},
   "outputs": [],
   "source": [
    "# variable length arguments\n",
    "\n",
    "# pasitional and keywords arguments-\n",
    "\n",
    "def print_numbers(*args):\n",
    "    for number in args:\n",
    "        print(number)\n",
    "    "
   ]
  },
  {
   "cell_type": "code",
   "execution_count": 45,
   "id": "98d48120",
   "metadata": {},
   "outputs": [
    {
     "name": "stdout",
     "output_type": "stream",
     "text": [
      "1\n",
      "2\n",
      "3\n",
      "4\n",
      "args\n"
     ]
    }
   ],
   "source": [
    "print_numbers(1,2,3,4,\"args\")"
   ]
  },
  {
   "cell_type": "code",
   "execution_count": 46,
   "id": "b32e2f7d",
   "metadata": {},
   "outputs": [],
   "source": [
    "## keyword arguments\n",
    "\n",
    "def print_details(** kwargs):\n",
    "    for key,value in kwargs.items():\n",
    "        print(f\"{key}:{value}\")"
   ]
  },
  {
   "cell_type": "code",
   "execution_count": 47,
   "id": "7a26381e",
   "metadata": {},
   "outputs": [
    {
     "name": "stdout",
     "output_type": "stream",
     "text": [
      "name:aastha\n",
      "age:20\n",
      "country:india\n"
     ]
    }
   ],
   "source": [
    "print_details(name =\"aastha\", age=\"20\",country=\"india\")"
   ]
  },
  {
   "cell_type": "code",
   "execution_count": 48,
   "id": "dfc30932",
   "metadata": {},
   "outputs": [],
   "source": [
    "# combind tha both argument\n",
    "\n",
    "def print_details(*args,** kwargs):\n",
    "\n",
    "    for val in args:\n",
    "        print(f\" positional argument :{val}\")\n",
    "\n",
    "    for key,value in kwargs.items():\n",
    "        print(f\"{key}:{value}\")"
   ]
  },
  {
   "cell_type": "code",
   "execution_count": 49,
   "id": "2f4d52d4",
   "metadata": {},
   "outputs": [
    {
     "name": "stdout",
     "output_type": "stream",
     "text": [
      " positional argument :1\n",
      " positional argument :2\n",
      " positional argument :3\n",
      " positional argument :4\n",
      " positional argument :5\n",
      " positional argument :aastha\n",
      "name:aastha\n",
      "age:20\n",
      "country:india\n"
     ]
    }
   ],
   "source": [
    "print_details(1,2,3,4,5,\"aastha\",name =\"aastha\", age=\"20\",country=\"india\")"
   ]
  },
  {
   "cell_type": "code",
   "execution_count": 60,
   "id": "a307cfcf",
   "metadata": {},
   "outputs": [
    {
     "data": {
      "text/plain": [
       "6"
      ]
     },
     "execution_count": 60,
     "metadata": {},
     "output_type": "execute_result"
    }
   ],
   "source": [
    "# return statenents\n",
    "\n",
    "def mul (a,b):\n",
    "    return a*b\n",
    "\n",
    "mul(2,3)"
   ]
  },
  {
   "cell_type": "code",
   "execution_count": 64,
   "id": "a273faff",
   "metadata": {},
   "outputs": [
    {
     "data": {
      "text/plain": [
       "(6, 5, 0.6666666666666666, -1)"
      ]
     },
     "execution_count": 64,
     "metadata": {},
     "output_type": "execute_result"
    }
   ],
   "source": [
    "# return multiple statements\n",
    "\n",
    "def mul (a,b):\n",
    "    return a*b,a +b,a/b,a-b\n",
    "\n",
    "mul(2,3)\n"
   ]
  }
 ],
 "metadata": {
  "kernelspec": {
   "display_name": "Python 3",
   "language": "python",
   "name": "python3"
  },
  "language_info": {
   "codemirror_mode": {
    "name": "ipython",
    "version": 3
   },
   "file_extension": ".py",
   "mimetype": "text/x-python",
   "name": "python",
   "nbconvert_exporter": "python",
   "pygments_lexer": "ipython3",
   "version": "3.13.0"
  }
 },
 "nbformat": 4,
 "nbformat_minor": 5
}
